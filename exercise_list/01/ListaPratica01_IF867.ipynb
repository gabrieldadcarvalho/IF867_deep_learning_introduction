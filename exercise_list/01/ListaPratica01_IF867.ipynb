{
 "cells": [
  {
   "cell_type": "markdown",
   "metadata": {
    "id": "WECeh57QhL9O"
   },
   "source": [
    "---\n",
    "<h1 style=\"text-align: center;\">IF867 - Introdução à Aprendizagem Profunda</h1>\n",
    "<h2 style=\"text-align: center;\">1ª atividade prática</h2>\n",
    "\n",
    "---\n",
    "---\n",
    "*Discente:*\n",
    "\n",
    "* Gabriel D'assumpção de Carvalho - gdc2@cin.ufpe.br\n",
    "\n",
    "*Curso:*\n",
    "\n",
    "* Ciências Atuariais - 7º Período\n",
    "\n",
    "<div style=\"text-align: center;\">\n",
    "29/11/2024\n",
    "</div>"
   ]
  },
  {
   "cell_type": "markdown",
   "metadata": {
    "id": "mRkbCshWhfya"
   },
   "source": [
    "# Instruções e Requisitos\n",
    "- Objetivo: Implementar e treinar um Multilayer Perceptron (MLP), inteiramente em [NumPy](https://numpy.org/doc/stable/) ou [Numba](https://numba.readthedocs.io/en/stable/index.html), sem o uso de bibliotecas de aprendizado profundo.\n",
    "- A atividade pode ser feita em dupla.\n",
    "\n",
    "## Tarefas\n",
    "\n",
    "__Implementação (50%):__\n",
    "\n",
    "- Construa um MLP com uma camada de entrada, pelo menos duas camadas ocultas e uma camada de saída.\n",
    "- Implemente pelo menos duas funções de ativação diferentes para as camadas ocultas; use Sigmoid e Linear para a camada de saída.\n",
    "- Implemente forward e backpropagation.\n",
    "- Implemente um otimizador de sua escolha, adequado ao problema abordado.\n",
    "- Implemente as funções de treinamento e avaliação.\n",
    "\n",
    "__Aplicação (30%):__\n",
    "\n",
    "  Teste se os seus modelos estão funcionando bem com as seguintes tarefas:\n",
    "  - Regressão\n",
    "  - Classificação binária\n",
    "\n",
    "__Experimentação (20%):__\n",
    "\n",
    "  Teste os seus modelos com variações na arquitetura, no pré-processamento, etc. Escolha pelo menos uma das seguintes opções:\n",
    "  - Variações na inicialização de pesos\n",
    "  - Variações na arquitetura\n",
    "  - Implementação de técnicas de regularização\n",
    "  - Visualização das ativações e gradientes\n",
    "\n",
    "***Bônus:*** Implemente o MLP utilizando uma biblioteca de machine learning (ex.: [PyTorch](https://pytorch.org/), [TensorFlow](https://www.tensorflow.org/?hl=pt-br), [tinygrad](https://docs.tinygrad.org/), [Jax](https://jax.readthedocs.io/en/latest/quickstart.html)) e teste-o em uma das aplicações e em um dos experimentos propostos. O bônus pode substituir um dos desafios de aplicação ou experimentos feitos em NumPy, ou simplesmente somar pontos para a pontuação geral.\n",
    "\n",
    "## Datasets recomendados:\n",
    "Aqui estão alguns datasets recomendados, mas fica a cargo do aluno escolher os datasets que utilizará na atividade, podendo escolher um dataset não listado abaixo.\n",
    "- Classificação\n",
    "\n",
    "  - [Iris](https://archive.ics.uci.edu/dataset/53/iris)\n",
    "  - [Breast Cancer Wisconsin (Diagnostic)](https://archive.ics.uci.edu/dataset/17/breast+cancer+wisconsin+diagnostic)\n",
    "  - [CDC Diabetes Health Indicators](https://archive.ics.uci.edu/dataset/891/cdc+diabetes+health+indicators)\n",
    "\n",
    "- Regressão\n",
    "\n",
    "  - [Air Quality](https://archive.ics.uci.edu/dataset/360/air+quality)\n",
    "  - [Student Performance](https://archive.ics.uci.edu/dataset/320/student+performance)\n",
    "  - [Wine Quality](https://archive.ics.uci.edu/dataset/186/wine+quality)\n",
    "\n",
    "## Requisitos para Entrega\n",
    "\n",
    "Um notebook Jupyter (de preferência, o link do colab) ou script Python contendo:\n",
    "\n",
    "- Código: Implementação completa da MLP.\n",
    "- Gráficos e Análises: Gráficos da curva de perda, ativações, gradientes e insights do treinamento, resultantes dos experimentos com parada antecipada e diferentes técnicas de regularização.\n",
    "- Relatório: Um breve relatório detalhando o impacto de várias configurações de hiperparâmetros(ex.: inicialização de pesos, número de camadas ocultas e neurônios) e métodos de regularização no desempenho do modelo.\n"
   ]
  },
  {
   "cell_type": "markdown",
   "metadata": {},
   "source": [
    "# Importações"
   ]
  },
  {
   "cell_type": "markdown",
   "metadata": {},
   "source": [
    "## Bibliotecas"
   ]
  },
  {
   "cell_type": "code",
   "execution_count": 1,
   "metadata": {},
   "outputs": [],
   "source": [
    "from ucimlrepo import fetch_ucirepo # Database\n",
    "import numpy as np # Data manipulation\n",
    "import pandas as pd  # Data manipulation\n",
    "import matplotlib.pyplot as plt # Data visualization"
   ]
  },
  {
   "cell_type": "markdown",
   "metadata": {},
   "source": [
    "## Datasets"
   ]
  },
  {
   "cell_type": "code",
   "execution_count": null,
   "metadata": {},
   "outputs": [],
   "source": [
    "iris = fetch_ucirepo(id=53) # Iris Dataset\n",
    "wine = fetch_ucirepo(id=186) # Wine Quality Dataset"
   ]
  },
  {
   "cell_type": "markdown",
   "metadata": {},
   "source": [
    "# Tratamento dos dados"
   ]
  },
  {
   "cell_type": "markdown",
   "metadata": {},
   "source": [
    "Nessa sessão vai ser elaborado funções para fazer um breve tratamento no banco de dados para facilitar o aprendizado da rede."
   ]
  },
  {
   "cell_type": "code",
   "execution_count": 15,
   "metadata": {},
   "outputs": [
    {
     "data": {
      "text/plain": [
       "{'uci_id': 186,\n",
       " 'name': 'Wine Quality',\n",
       " 'repository_url': 'https://archive.ics.uci.edu/dataset/186/wine+quality',\n",
       " 'data_url': 'https://archive.ics.uci.edu/static/public/186/data.csv',\n",
       " 'abstract': 'Two datasets are included, related to red and white vinho verde wine samples, from the north of Portugal. The goal is to model wine quality based on physicochemical tests (see [Cortez et al., 2009], http://www3.dsi.uminho.pt/pcortez/wine/).',\n",
       " 'area': 'Business',\n",
       " 'tasks': ['Classification', 'Regression'],\n",
       " 'characteristics': ['Multivariate'],\n",
       " 'num_instances': 4898,\n",
       " 'num_features': 11,\n",
       " 'feature_types': ['Real'],\n",
       " 'demographics': [],\n",
       " 'target_col': ['quality'],\n",
       " 'index_col': None,\n",
       " 'has_missing_values': 'no',\n",
       " 'missing_values_symbol': None,\n",
       " 'year_of_dataset_creation': 2009,\n",
       " 'last_updated': 'Wed Nov 15 2023',\n",
       " 'dataset_doi': '10.24432/C56S3T',\n",
       " 'creators': ['Paulo Cortez',\n",
       "  'A. Cerdeira',\n",
       "  'F. Almeida',\n",
       "  'T. Matos',\n",
       "  'J. Reis'],\n",
       " 'intro_paper': {'ID': 252,\n",
       "  'type': 'NATIVE',\n",
       "  'title': 'Modeling wine preferences by data mining from physicochemical properties',\n",
       "  'authors': 'P. Cortez, A. Cerdeira, Fernando Almeida, Telmo Matos, J. Reis',\n",
       "  'venue': 'Decision Support Systems',\n",
       "  'year': 2009,\n",
       "  'journal': None,\n",
       "  'DOI': None,\n",
       "  'URL': 'https://www.semanticscholar.org/paper/Modeling-wine-preferences-by-data-mining-from-Cortez-Cerdeira/bf15a0ccc14ac1deb5cea570c870389c16be019c',\n",
       "  'sha': None,\n",
       "  'corpus': None,\n",
       "  'arxiv': None,\n",
       "  'mag': None,\n",
       "  'acl': None,\n",
       "  'pmid': None,\n",
       "  'pmcid': None},\n",
       " 'additional_info': {'summary': 'The two datasets are related to red and white variants of the Portuguese \"Vinho Verde\" wine. For more details, consult: http://www.vinhoverde.pt/en/ or the reference [Cortez et al., 2009].  Due to privacy and logistic issues, only physicochemical (inputs) and sensory (the output) variables are available (e.g. there is no data about grape types, wine brand, wine selling price, etc.).\\n\\nThese datasets can be viewed as classification or regression tasks.  The classes are ordered and not balanced (e.g. there are many more normal wines than excellent or poor ones). Outlier detection algorithms could be used to detect the few excellent or poor wines. Also, we are not sure if all input variables are relevant. So it could be interesting to test feature selection methods.\\n',\n",
       "  'purpose': None,\n",
       "  'funded_by': None,\n",
       "  'instances_represent': None,\n",
       "  'recommended_data_splits': None,\n",
       "  'sensitive_data': None,\n",
       "  'preprocessing_description': None,\n",
       "  'variable_info': 'For more information, read [Cortez et al., 2009].\\r\\nInput variables (based on physicochemical tests):\\r\\n   1 - fixed acidity\\r\\n   2 - volatile acidity\\r\\n   3 - citric acid\\r\\n   4 - residual sugar\\r\\n   5 - chlorides\\r\\n   6 - free sulfur dioxide\\r\\n   7 - total sulfur dioxide\\r\\n   8 - density\\r\\n   9 - pH\\r\\n   10 - sulphates\\r\\n   11 - alcohol\\r\\nOutput variable (based on sensory data): \\r\\n   12 - quality (score between 0 and 10)',\n",
       "  'citation': None}}"
      ]
     },
     "execution_count": 15,
     "metadata": {},
     "output_type": "execute_result"
    }
   ],
   "source": [
    "wine.metadata"
   ]
  },
  {
   "cell_type": "code",
   "execution_count": null,
   "metadata": {},
   "outputs": [],
   "source": [
    "def drop_nan(df):\n",
    "  print(df.isna().sum())\n",
    "  \n"
   ]
  }
 ],
 "metadata": {
  "colab": {
   "collapsed_sections": [
    "WECeh57QhL9O"
   ],
   "provenance": []
  },
  "kernelspec": {
   "display_name": "ds",
   "language": "python",
   "name": "python3"
  },
  "language_info": {
   "codemirror_mode": {
    "name": "ipython",
    "version": 3
   },
   "file_extension": ".py",
   "mimetype": "text/x-python",
   "name": "python",
   "nbconvert_exporter": "python",
   "pygments_lexer": "ipython3",
   "version": "3.13.0"
  }
 },
 "nbformat": 4,
 "nbformat_minor": 0
}

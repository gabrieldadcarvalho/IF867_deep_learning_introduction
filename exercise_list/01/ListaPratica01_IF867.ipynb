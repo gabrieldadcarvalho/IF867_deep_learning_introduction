{
 "cells": [
  {
   "cell_type": "markdown",
   "metadata": {
    "id": "WECeh57QhL9O"
   },
   "source": [
    "---\n",
    "<h1 style=\"text-align: center;\">IF867 - Introdução à Aprendizagem Profunda</h1>\n",
    "<h2 style=\"text-align: center;\">1ª atividade prática</h2>\n",
    "\n",
    "---\n",
    "---\n",
    "*Discente:*\n",
    "\n",
    "* Gabriel D'assumpção de Carvalho - gdc2@cin.ufpe.br\n",
    "\n",
    "*Curso:*\n",
    "\n",
    "* Ciências Atuariais - 7º Período\n",
    "\n",
    "<div style=\"text-align: center;\">\n",
    "29/11/2024\n",
    "</div>"
   ]
  },
  {
   "cell_type": "markdown",
   "metadata": {},
   "source": [
    "# Introdução"
   ]
  },
  {
   "cell_type": "markdown",
   "metadata": {},
   "source": [
    "O objetivo desta atividade é desenvolver um algoritmo de MLP (Multilayer Perceptron) do zero, sem utilizar bibliotecas específicas de machine learning. Por conta disso, optou-se por não realizar uma análise exploratória aprofundada. Além disso, não investigamos detalhadamente o impacto de possíveis duplicatas na distribuição das variáveis, nem verificamos se essas duplicações poderiam ser causadas por erros de arredondamento.\n",
    "\n",
    "Foram utilizados dois conjuntos de dados distintos: um para realizar a regressão do custo do seguro e outro para a classificação multiclasse das espécies de plantas do dataset Iris. Após a importação dos dados, diversas funções foram implementadas para o pré-processamento das observações, incluindo: conversão de variáveis categóricas em numéricas, remoção de duplicidades, tratamento de valores nulos, conversão da variável target do dataset Iris em formato one-hot e a criação de uma função para dividir os dados em conjuntos de treinamento e teste."
   ]
  },
  {
   "cell_type": "markdown",
   "metadata": {},
   "source": [
    "# Importações"
   ]
  },
  {
   "cell_type": "markdown",
   "metadata": {},
   "source": [
    "## Bibliotecas"
   ]
  },
  {
   "cell_type": "code",
   "execution_count": 505,
   "metadata": {},
   "outputs": [],
   "source": [
    "# Desativa todos os avisos\n",
    "import warnings\n",
    "warnings.filterwarnings(\"ignore\")\n",
    "\n",
    "import numpy as np # Data manipulation\n",
    "import pandas as pd  # Data manipulation\n",
    "pd.options.display.float_format = \"{:.4f}\".format\n",
    "import matplotlib.pyplot as plt # Data visualization\n",
    "from sklearn.metrics import (\n",
    "    confusion_matrix,\n",
    "    ConfusionMatrixDisplay,\n",
    ")  # Data visualization\n",
    "\n",
    "# Nueral network\n",
    "import tensorflow as tf\n",
    "from tensorflow import keras\n",
    "from keras import models\n",
    "from keras.layers import Dense\n",
    "from tensorflow.keras.optimizers import Adagrad"
   ]
  },
  {
   "cell_type": "markdown",
   "metadata": {},
   "source": [
    "## Datasets"
   ]
  },
  {
   "cell_type": "markdown",
   "metadata": {},
   "source": [
    "### Insurence"
   ]
  },
  {
   "cell_type": "markdown",
   "metadata": {},
   "source": [
    "Insurance é uma base de dados disponível no [Kaggle](https://www.kaggle.com/datasets/willianoliveiragibin/healthcare-insurance/data). A base contém\n",
    "1.338 observações e 6 características, com o custo do seguro médico como variável alvo. A seguir, estão\n",
    "as variáveis da base de dados:\n",
    "\n",
    "\n",
    "| Atributo   | Descrição                                                      | Tipo                    |\n",
    "|------------|----------------------------------------------------------------|-------------------------|\n",
    "| *Idade*     | A idade da pessoa segurada.                                    | Inteiro                 |\n",
    "| *Sexo*      | Gênero (masculino ou feminino) do segurado.                     | Categórico - Binário    |\n",
    "| *IMC*        | Índice de Massa Corporal: uma medida de gordura corporal baseada na altura e no peso. | Contínuo                |\n",
    "| *Crianças*   | O número de dependentes cobertos.                               | Inteiro                 |\n",
    "| *Fumante*    | Se o segurado é fumante (sim ou não).                           | Categórico - Binário    |\n",
    "| *Região*     | A área geográfica de cobertura.                                | Categórico - Nominal    |\n",
    "| *Encargos*   | Os custos do seguro médico incorridos pelo segurado.            | Contínuo                |"
   ]
  },
  {
   "cell_type": "code",
   "execution_count": 506,
   "metadata": {},
   "outputs": [
    {
     "data": {
      "text/html": [
       "<div>\n",
       "<style scoped>\n",
       "    .dataframe tbody tr th:only-of-type {\n",
       "        vertical-align: middle;\n",
       "    }\n",
       "\n",
       "    .dataframe tbody tr th {\n",
       "        vertical-align: top;\n",
       "    }\n",
       "\n",
       "    .dataframe thead th {\n",
       "        text-align: right;\n",
       "    }\n",
       "</style>\n",
       "<table border=\"1\" class=\"dataframe\">\n",
       "  <thead>\n",
       "    <tr style=\"text-align: right;\">\n",
       "      <th></th>\n",
       "      <th>age</th>\n",
       "      <th>sex</th>\n",
       "      <th>imc</th>\n",
       "      <th>children</th>\n",
       "      <th>smoke</th>\n",
       "      <th>region</th>\n",
       "      <th>charges</th>\n",
       "    </tr>\n",
       "  </thead>\n",
       "  <tbody>\n",
       "    <tr>\n",
       "      <th>0</th>\n",
       "      <td>19</td>\n",
       "      <td>female</td>\n",
       "      <td>27.9000</td>\n",
       "      <td>0</td>\n",
       "      <td>yes</td>\n",
       "      <td>southwest</td>\n",
       "      <td>16884.9240</td>\n",
       "    </tr>\n",
       "    <tr>\n",
       "      <th>1</th>\n",
       "      <td>18</td>\n",
       "      <td>male</td>\n",
       "      <td>33.7700</td>\n",
       "      <td>1</td>\n",
       "      <td>no</td>\n",
       "      <td>southeast</td>\n",
       "      <td>1725.5523</td>\n",
       "    </tr>\n",
       "    <tr>\n",
       "      <th>2</th>\n",
       "      <td>28</td>\n",
       "      <td>male</td>\n",
       "      <td>33.0000</td>\n",
       "      <td>3</td>\n",
       "      <td>no</td>\n",
       "      <td>southeast</td>\n",
       "      <td>4449.4620</td>\n",
       "    </tr>\n",
       "    <tr>\n",
       "      <th>3</th>\n",
       "      <td>33</td>\n",
       "      <td>male</td>\n",
       "      <td>22.7050</td>\n",
       "      <td>0</td>\n",
       "      <td>no</td>\n",
       "      <td>northwest</td>\n",
       "      <td>21984.4706</td>\n",
       "    </tr>\n",
       "    <tr>\n",
       "      <th>4</th>\n",
       "      <td>32</td>\n",
       "      <td>male</td>\n",
       "      <td>28.8800</td>\n",
       "      <td>0</td>\n",
       "      <td>no</td>\n",
       "      <td>northwest</td>\n",
       "      <td>3866.8552</td>\n",
       "    </tr>\n",
       "  </tbody>\n",
       "</table>\n",
       "</div>"
      ],
      "text/plain": [
       "   age     sex     imc  children smoke     region    charges\n",
       "0   19  female 27.9000         0   yes  southwest 16884.9240\n",
       "1   18    male 33.7700         1    no  southeast  1725.5523\n",
       "2   28    male 33.0000         3    no  southeast  4449.4620\n",
       "3   33    male 22.7050         0    no  northwest 21984.4706\n",
       "4   32    male 28.8800         0    no  northwest  3866.8552"
      ]
     },
     "execution_count": 506,
     "metadata": {},
     "output_type": "execute_result"
    }
   ],
   "source": [
    "# Urls of the datasets\n",
    "insurence = pd.read_csv(\n",
    "    \"https://raw.githubusercontent.com/gabrieldadcarvalho/neural_network/refs/heads/main/projeto/data/insurance.csv\"\n",
    ")\n",
    "\n",
    "insurence.head()"
   ]
  },
  {
   "cell_type": "markdown",
   "metadata": {},
   "source": [
    "Para uma análise exploratória mais detalhada, consulte o seguinte repositório:\n",
    "[Modelagem de Redes Neurais para\n",
    "Previsão de Custos em Seguros de\n",
    "Saúde](https://github.com/gabrieldadcarvalho/neural_network/blob/main/projeto/Neural_Network_Projetc.pdf)"
   ]
  },
  {
   "cell_type": "markdown",
   "metadata": {},
   "source": [
    "### Iris"
   ]
  },
  {
   "cell_type": "markdown",
   "metadata": {},
   "source": [
    "O dataset Iris é uma base de dados clássica e amplamente utilizada em machine learning, disponível no [Kaggle](https://www.kaggle.com/datasets/uciml/iris?select=Iris.csv) ou em diversas outras plataformas de banco de dados e em bibliotecas como *tensorflow*. Ele contém informações sobre três espécies de plantas do gênero *Iris*: *Iris setosa*, *Iris versicolor* e *Iris virginica*. O objetivo principal ao utilizar este dataset é a classificação das espécies, dadas as características de suas pétalas e sépalas.\n",
    "\n",
    "O dataset consiste em 150 observações, divididas igualmente entre as três espécies, e possui 5 atributos, onde um deles corresponde ao nome da espécie e os outros quatro as características das pétalas e sépalas. Os atributos são:\n",
    "\n",
    "| Atributo         | Descrição                                                                             | Tipo       | Unidade  |\n",
    "|------------------|---------------------------------------------------------------------------------------|------------|----------|\n",
    "| *sepal length*  | Comprimento da sépala.                                                               | Contínuo   | centímetros |\n",
    "| *sepal width*  | Largura da sépala.                                                                  | Contínuo   | centímetros |\n",
    "| *petal length* | Comprimento da pétala.                                                              | Contínuo   | centímetros |\n",
    "| *petal width*  | Largura da pétala.                                                                   | Contínuo   | centímetros |\n",
    "| *species*      | Espécie da planta iris (setosa, versicolor ou virginica).                                        | Categórico | -        |"
   ]
  },
  {
   "cell_type": "code",
   "execution_count": 507,
   "metadata": {},
   "outputs": [
    {
     "data": {
      "text/html": [
       "<div>\n",
       "<style scoped>\n",
       "    .dataframe tbody tr th:only-of-type {\n",
       "        vertical-align: middle;\n",
       "    }\n",
       "\n",
       "    .dataframe tbody tr th {\n",
       "        vertical-align: top;\n",
       "    }\n",
       "\n",
       "    .dataframe thead th {\n",
       "        text-align: right;\n",
       "    }\n",
       "</style>\n",
       "<table border=\"1\" class=\"dataframe\">\n",
       "  <thead>\n",
       "    <tr style=\"text-align: right;\">\n",
       "      <th></th>\n",
       "      <th>sepal_length</th>\n",
       "      <th>sepal_width</th>\n",
       "      <th>petal_length</th>\n",
       "      <th>petal_width</th>\n",
       "      <th>species</th>\n",
       "    </tr>\n",
       "  </thead>\n",
       "  <tbody>\n",
       "    <tr>\n",
       "      <th>0</th>\n",
       "      <td>5.1000</td>\n",
       "      <td>3.5000</td>\n",
       "      <td>1.4000</td>\n",
       "      <td>0.2000</td>\n",
       "      <td>Iris-setosa</td>\n",
       "    </tr>\n",
       "    <tr>\n",
       "      <th>1</th>\n",
       "      <td>4.9000</td>\n",
       "      <td>3.0000</td>\n",
       "      <td>1.4000</td>\n",
       "      <td>0.2000</td>\n",
       "      <td>Iris-setosa</td>\n",
       "    </tr>\n",
       "    <tr>\n",
       "      <th>2</th>\n",
       "      <td>4.7000</td>\n",
       "      <td>3.2000</td>\n",
       "      <td>1.3000</td>\n",
       "      <td>0.2000</td>\n",
       "      <td>Iris-setosa</td>\n",
       "    </tr>\n",
       "    <tr>\n",
       "      <th>3</th>\n",
       "      <td>4.6000</td>\n",
       "      <td>3.1000</td>\n",
       "      <td>1.5000</td>\n",
       "      <td>0.2000</td>\n",
       "      <td>Iris-setosa</td>\n",
       "    </tr>\n",
       "    <tr>\n",
       "      <th>4</th>\n",
       "      <td>5.0000</td>\n",
       "      <td>3.6000</td>\n",
       "      <td>1.4000</td>\n",
       "      <td>0.2000</td>\n",
       "      <td>Iris-setosa</td>\n",
       "    </tr>\n",
       "  </tbody>\n",
       "</table>\n",
       "</div>"
      ],
      "text/plain": [
       "   sepal_length  sepal_width  petal_length  petal_width      species\n",
       "0        5.1000       3.5000        1.4000       0.2000  Iris-setosa\n",
       "1        4.9000       3.0000        1.4000       0.2000  Iris-setosa\n",
       "2        4.7000       3.2000        1.3000       0.2000  Iris-setosa\n",
       "3        4.6000       3.1000        1.5000       0.2000  Iris-setosa\n",
       "4        5.0000       3.6000        1.4000       0.2000  Iris-setosa"
      ]
     },
     "execution_count": 507,
     "metadata": {},
     "output_type": "execute_result"
    }
   ],
   "source": [
    "# Url of the iris dataset\n",
    "url_iris = \"https://raw.githubusercontent.com/gabrieldadcarvalho/deep_learning/refs/heads/master/exercise_list/01/data/iris/iris.data\"\n",
    "\n",
    "# Read of the arquives CSV\n",
    "iris = pd.read_csv(url_iris, sep=\",\", header=None)\n",
    "\n",
    "# Adding name of the variables\n",
    "iris.columns = [\"sepal_length\", \"sepal_width\", \"petal_length\", \"petal_width\", \"species\"]\n",
    "\n",
    "# 5 first rows\n",
    "iris.head()"
   ]
  },
  {
   "cell_type": "markdown",
   "metadata": {},
   "source": [
    "# Tratamento dos dados"
   ]
  },
  {
   "cell_type": "markdown",
   "metadata": {},
   "source": [
    "Nessa sessão vai ser elaborado funções para fazer um breve tratamento no banco de dados para facilitar o aprendizado da rede."
   ]
  },
  {
   "cell_type": "code",
   "execution_count": 508,
   "metadata": {},
   "outputs": [],
   "source": [
    "def print_stats(df, action, missing=False):\n",
    "    if missing:\n",
    "        print(f\"Variables with missing values: \\n{df.isna().sum()}\")\n",
    "        print(\"==\" * 20)\n",
    "        print(f\"Total of missing values: \\n{df.isna().sum().sum()}\")\n",
    "        print(\"==\" * 20)\n",
    "        if df.isna().any().any():\n",
    "            print(f\"Observations of missing values: \\n{df[df.isna().any(axis=1)]}\")\n",
    "            print(\"==\" * 20)\n",
    "    else:\n",
    "        print(f\"Variables with duplicated values: \\n{df.duplicated().sum()}\")\n",
    "        print(\"==\" * 20)\n",
    "        print(f\"Total of duplicated values: \\n{df.duplicated().sum()}\")\n",
    "        print(\"==\" * 20)\n",
    "        if df.duplicated().any():\n",
    "            print(\n",
    "                f\"Observations of duplicated values: \\n{df[df.duplicated(keep=False)]}\"\n",
    "            )\n",
    "            print(\"==\" * 20)\n",
    "\n",
    "    print(f\"Old shape: {df.shape}\")\n",
    "\n",
    "    return df\n",
    "\n",
    "\n",
    "def drop_nan(df):\n",
    "    # Show statistics\n",
    "    print_stats(df, action=\"dropna\", missing=True)\n",
    "\n",
    "    # Drop of missing values\n",
    "    df_cleaned = df.dropna()\n",
    "    print(f\"New shape: {df_cleaned.shape}\")\n",
    "    return df_cleaned\n",
    "\n",
    "\n",
    "def drop_duplicates(df):\n",
    "    # Show Statistics\n",
    "    print_stats(df, action=\"drop_duplicates\", missing=False)\n",
    "\n",
    "    # Drop of duplicated values\n",
    "    df_cleaned = df.drop_duplicates()\n",
    "    print(f\"New shape: {df_cleaned.shape}\")\n",
    "    return df_cleaned\n",
    "\n",
    "\n",
    "def trans_categorical(df):\n",
    "    print(df.info())\n",
    "    print(\"==\" * 20)\n",
    "\n",
    "    categorical_cols = df.select_dtypes(include=[\"object\"]).columns\n",
    "    category_dict = {}  # Initialize an empty dictionary to store mappings\n",
    "\n",
    "    if len(categorical_cols) > 0:\n",
    "        for column in categorical_cols:\n",
    "            category_mapping = {\n",
    "                category: index\n",
    "                for index, category in enumerate(pd.Categorical(df[column]).categories)\n",
    "            }\n",
    "            df[column] = df[column].map(category_mapping)\n",
    "            category_dict[column] = (\n",
    "                category_mapping  # Store the mapping for this column\n",
    "            )\n",
    "\n",
    "            print(f\"Column: {column} has {df[column].nunique()} categories\")\n",
    "            print(\"Mapping:\", category_mapping)\n",
    "            print(\"==\" * 20)\n",
    "\n",
    "        print(\"Transformation was made successfully!\")\n",
    "        print(\"==\" * 20)\n",
    "        print(\"New info:\")\n",
    "        print(df.info())\n",
    "    else:\n",
    "        print(\"No categorical columns found.\")\n",
    "\n",
    "    return df, category_dict\n",
    "\n",
    "\n",
    "def one_hot_encode(labels, num_classes):\n",
    "    return np.eye(num_classes)[labels]\n",
    "\n",
    "\n",
    "def split(x, y, percent, seed):\n",
    "    np.random.seed(seed)\n",
    "    l = np.arange(x.shape[0])\n",
    "    np.random.shuffle(l)\n",
    "    train_size = int(len(l) * percent)\n",
    "    train_indices = l[:train_size]\n",
    "    test_indices = l[train_size:]\n",
    "    X_train, X_test = x[train_indices], x[test_indices]\n",
    "    Y_train, Y_test = y[train_indices], y[test_indices]\n",
    "    return X_train, X_test, Y_train, Y_test"
   ]
  },
  {
   "cell_type": "markdown",
   "metadata": {},
   "source": [
    "## Insurence"
   ]
  },
  {
   "cell_type": "markdown",
   "metadata": {},
   "source": [
    "### Transformação Categórica"
   ]
  },
  {
   "cell_type": "code",
   "execution_count": 509,
   "metadata": {},
   "outputs": [
    {
     "name": "stdout",
     "output_type": "stream",
     "text": [
      "<class 'pandas.core.frame.DataFrame'>\n",
      "RangeIndex: 1338 entries, 0 to 1337\n",
      "Data columns (total 7 columns):\n",
      " #   Column    Non-Null Count  Dtype  \n",
      "---  ------    --------------  -----  \n",
      " 0   age       1338 non-null   int64  \n",
      " 1   sex       1338 non-null   object \n",
      " 2   imc       1338 non-null   float64\n",
      " 3   children  1338 non-null   int64  \n",
      " 4   smoke     1338 non-null   object \n",
      " 5   region    1338 non-null   object \n",
      " 6   charges   1338 non-null   float64\n",
      "dtypes: float64(2), int64(2), object(3)\n",
      "memory usage: 73.3+ KB\n",
      "None\n",
      "========================================\n",
      "Column: sex has 2 categories\n",
      "Mapping: {'female': 0, 'male': 1}\n",
      "========================================\n",
      "Column: smoke has 2 categories\n",
      "Mapping: {'no': 0, 'yes': 1}\n",
      "========================================\n",
      "Column: region has 4 categories\n",
      "Mapping: {'northeast': 0, 'northwest': 1, 'southeast': 2, 'southwest': 3}\n",
      "========================================\n",
      "Transformation was made successfully!\n",
      "========================================\n",
      "New info:\n",
      "<class 'pandas.core.frame.DataFrame'>\n",
      "RangeIndex: 1338 entries, 0 to 1337\n",
      "Data columns (total 7 columns):\n",
      " #   Column    Non-Null Count  Dtype  \n",
      "---  ------    --------------  -----  \n",
      " 0   age       1338 non-null   int64  \n",
      " 1   sex       1338 non-null   int64  \n",
      " 2   imc       1338 non-null   float64\n",
      " 3   children  1338 non-null   int64  \n",
      " 4   smoke     1338 non-null   int64  \n",
      " 5   region    1338 non-null   int64  \n",
      " 6   charges   1338 non-null   float64\n",
      "dtypes: float64(2), int64(5)\n",
      "memory usage: 73.3 KB\n",
      "None\n"
     ]
    }
   ],
   "source": [
    "insurence, categ_wine = trans_categorical(insurence)"
   ]
  },
  {
   "cell_type": "markdown",
   "metadata": {},
   "source": [
    "Podemos observar na função acima que o banco de dados 'insurance' contém três variáveis categóricas: sexo, fumo (smoke) e região (region). Para realizar a análise, foi feita uma transformação dessas variáveis em valores numéricos. O sexo foi codificado como 0 e 1, o fumo também como 0 e 1, e a região foi convertida nos valores 0, 1 e 2."
   ]
  },
  {
   "cell_type": "markdown",
   "metadata": {},
   "source": [
    "### Removendo Valores Ausentes"
   ]
  },
  {
   "cell_type": "code",
   "execution_count": 510,
   "metadata": {},
   "outputs": [
    {
     "name": "stdout",
     "output_type": "stream",
     "text": [
      "Variables with missing values: \n",
      "age         0\n",
      "sex         0\n",
      "imc         0\n",
      "children    0\n",
      "smoke       0\n",
      "region      0\n",
      "charges     0\n",
      "dtype: int64\n",
      "========================================\n",
      "Total of missing values: \n",
      "0\n",
      "========================================\n",
      "Old shape: (1338, 7)\n",
      "New shape: (1338, 7)\n"
     ]
    }
   ],
   "source": [
    "insurence = drop_nan(insurence)"
   ]
  },
  {
   "cell_type": "markdown",
   "metadata": {},
   "source": [
    "Conforme observado nas funções anteriores, o dataframe do banco de dados de seguro não apresenta dados ausentes em nenhuma de suas variáveis."
   ]
  },
  {
   "cell_type": "markdown",
   "metadata": {},
   "source": [
    "### Removendo duplicidades"
   ]
  },
  {
   "cell_type": "code",
   "execution_count": 511,
   "metadata": {},
   "outputs": [
    {
     "name": "stdout",
     "output_type": "stream",
     "text": [
      "Variables with duplicated values: \n",
      "1\n",
      "========================================\n",
      "Total of duplicated values: \n",
      "1\n",
      "========================================\n",
      "Observations of duplicated values: \n",
      "     age  sex     imc  children  smoke  region   charges\n",
      "195   19    1 30.5900         0      0       1 1639.5631\n",
      "581   19    1 30.5900         0      0       1 1639.5631\n",
      "========================================\n",
      "Old shape: (1338, 7)\n",
      "New shape: (1337, 7)\n"
     ]
    }
   ],
   "source": [
    "insurence = drop_duplicates(insurence)"
   ]
  },
  {
   "cell_type": "markdown",
   "metadata": {},
   "source": [
    "No entanto, foram identificados 2 dados duplicados, sendo assim foi removido uma das observações passando de 1338 observações para 1337."
   ]
  },
  {
   "cell_type": "markdown",
   "metadata": {},
   "source": [
    "### Divisão de Treinamento, Validação e Teste"
   ]
  },
  {
   "cell_type": "code",
   "execution_count": 512,
   "metadata": {},
   "outputs": [],
   "source": [
    "X_train_insurance, X_test_insurance, Y_train_insurance, Y_test_insurance = split(\n",
    "    insurence.drop(\"charges\", axis=1).values, insurence[\"charges\"].values, 0.8, 42\n",
    ")"
   ]
  },
  {
   "cell_type": "markdown",
   "metadata": {},
   "source": [
    "Na função acima, os dados foram divididos inicialmente em 80% para treinamento (1.069 observações) e 20% para teste (267 observações)."
   ]
  },
  {
   "cell_type": "markdown",
   "metadata": {},
   "source": [
    "### Padronização Z-score"
   ]
  },
  {
   "cell_type": "markdown",
   "metadata": {},
   "source": [
    "Para padronizar os dados, será utilizada a técnica do Z-score, que ajusta a base de treinamento para ter desvio padrão igual a 1 e média igual a 0. Após esse ajuste, o desvio padrão e a média calculados na base de treinamento serão armazenados e aplicados posteriormente à base de teste. Essa abordagem evita que a padronização introduza informações da base de teste na base de treinamento, o que poderia enviesar o modelo. Esse cuidado é especialmente importante em situações reais, onde as novas observações (teste) não estão disponíveis durante o treinamento."
   ]
  },
  {
   "cell_type": "code",
   "execution_count": 513,
   "metadata": {},
   "outputs": [],
   "source": [
    "X_mean_insurance = np.mean(X_train_insurance, axis=0)\n",
    "X_std_insurance = np.std(X_train_insurance, axis=0)\n",
    "\n",
    "Y_mean_insurance = np.mean(Y_train_insurance)\n",
    "Y_std_insurance = np.std(Y_train_insurance)\n",
    "\n",
    "X_train_insurance = (X_train_insurance - X_mean_insurance) / X_std_insurance\n",
    "Y_train_insurance = (Y_train_insurance - Y_mean_insurance) / Y_std_insurance\n",
    "\n",
    "X_test_insurance = (X_test_insurance - X_mean_insurance) / X_std_insurance\n",
    "Y_test_insurance = (Y_test_insurance - Y_mean_insurance) / Y_std_insurance"
   ]
  },
  {
   "cell_type": "markdown",
   "metadata": {},
   "source": [
    "## Iris"
   ]
  },
  {
   "cell_type": "markdown",
   "metadata": {},
   "source": [
    "### Transformação Categórica"
   ]
  },
  {
   "cell_type": "code",
   "execution_count": 514,
   "metadata": {},
   "outputs": [
    {
     "name": "stdout",
     "output_type": "stream",
     "text": [
      "<class 'pandas.core.frame.DataFrame'>\n",
      "RangeIndex: 150 entries, 0 to 149\n",
      "Data columns (total 5 columns):\n",
      " #   Column        Non-Null Count  Dtype  \n",
      "---  ------        --------------  -----  \n",
      " 0   sepal_length  150 non-null    float64\n",
      " 1   sepal_width   150 non-null    float64\n",
      " 2   petal_length  150 non-null    float64\n",
      " 3   petal_width   150 non-null    float64\n",
      " 4   species       150 non-null    object \n",
      "dtypes: float64(4), object(1)\n",
      "memory usage: 6.0+ KB\n",
      "None\n",
      "========================================\n",
      "Column: species has 3 categories\n",
      "Mapping: {'Iris-setosa': 0, 'Iris-versicolor': 1, 'Iris-virginica': 2}\n",
      "========================================\n",
      "Transformation was made successfully!\n",
      "========================================\n",
      "New info:\n",
      "<class 'pandas.core.frame.DataFrame'>\n",
      "RangeIndex: 150 entries, 0 to 149\n",
      "Data columns (total 5 columns):\n",
      " #   Column        Non-Null Count  Dtype  \n",
      "---  ------        --------------  -----  \n",
      " 0   sepal_length  150 non-null    float64\n",
      " 1   sepal_width   150 non-null    float64\n",
      " 2   petal_length  150 non-null    float64\n",
      " 3   petal_width   150 non-null    float64\n",
      " 4   species       150 non-null    int64  \n",
      "dtypes: float64(4), int64(1)\n",
      "memory usage: 6.0 KB\n",
      "None\n"
     ]
    }
   ],
   "source": [
    "iris, categ_iris = trans_categorical(iris)"
   ]
  },
  {
   "cell_type": "markdown",
   "metadata": {},
   "source": [
    "No banco de dados \"iris\", a variável target é categórica e multiclasse, com as categorias: Iris-setosa, Iris-versicolor e Iris-virginica. Para facilitar o processamento, essas categorias foram transformadas em valores numéricos: 0, 1 e 2, respectivamente."
   ]
  },
  {
   "cell_type": "markdown",
   "metadata": {},
   "source": [
    "### Removendo Valores Ausentes"
   ]
  },
  {
   "cell_type": "code",
   "execution_count": 515,
   "metadata": {},
   "outputs": [
    {
     "name": "stdout",
     "output_type": "stream",
     "text": [
      "Variables with missing values: \n",
      "sepal_length    0\n",
      "sepal_width     0\n",
      "petal_length    0\n",
      "petal_width     0\n",
      "species         0\n",
      "dtype: int64\n",
      "========================================\n",
      "Total of missing values: \n",
      "0\n",
      "========================================\n",
      "Old shape: (150, 5)\n",
      "New shape: (150, 5)\n"
     ]
    }
   ],
   "source": [
    "iris = drop_nan(iris)"
   ]
  },
  {
   "cell_type": "markdown",
   "metadata": {},
   "source": [
    "Também não foram identificados valores ausentes em nenhuma das variáveis."
   ]
  },
  {
   "cell_type": "markdown",
   "metadata": {},
   "source": [
    "### Removendo Valores Duplicados"
   ]
  },
  {
   "cell_type": "code",
   "execution_count": 516,
   "metadata": {},
   "outputs": [
    {
     "name": "stdout",
     "output_type": "stream",
     "text": [
      "Variables with duplicated values: \n",
      "3\n",
      "========================================\n",
      "Total of duplicated values: \n",
      "3\n",
      "========================================\n",
      "Observations of duplicated values: \n",
      "     sepal_length  sepal_width  petal_length  petal_width  species\n",
      "9          4.9000       3.1000        1.5000       0.1000        0\n",
      "34         4.9000       3.1000        1.5000       0.1000        0\n",
      "37         4.9000       3.1000        1.5000       0.1000        0\n",
      "101        5.8000       2.7000        5.1000       1.9000        2\n",
      "142        5.8000       2.7000        5.1000       1.9000        2\n",
      "========================================\n",
      "Old shape: (150, 5)\n",
      "New shape: (147, 5)\n"
     ]
    }
   ],
   "source": [
    "iris = drop_duplicates(iris)"
   ]
  },
  {
   "cell_type": "markdown",
   "metadata": {},
   "source": [
    "Ao verificar a presença de valores duplicados, foram identificadas 3 observações repetidas da espécie Iris-setosa e 2 da espécie Iris-virginica. Como resultado, foram removidas 2 observações da Iris-setosa e 1 da Iris-virginica, totalizando 3 remoções. Com isso, o número de registros foi reduzido de 150 para 147, representando uma perda de apenas 2% da base de dados, o que é considerado um impacto mínimo na integridade do conjunto."
   ]
  },
  {
   "cell_type": "markdown",
   "metadata": {},
   "source": [
    "### Divisão de Treinamento, Validação e Teste"
   ]
  },
  {
   "cell_type": "code",
   "execution_count": 517,
   "metadata": {},
   "outputs": [],
   "source": [
    "X_train_iris, X_test_iris, Y_train_iris, Y_test_iris = split(\n",
    "    iris.drop(\"species\", axis=1).values, iris[\"species\"].values, 0.8, 42\n",
    ")"
   ]
  },
  {
   "cell_type": "code",
   "execution_count": 518,
   "metadata": {},
   "outputs": [],
   "source": [
    "Y_train_iris_one_hot = one_hot_encode(Y_train_iris, 3)"
   ]
  },
  {
   "cell_type": "markdown",
   "metadata": {},
   "source": [
    "### Padronização Z-score"
   ]
  },
  {
   "cell_type": "code",
   "execution_count": 519,
   "metadata": {},
   "outputs": [],
   "source": [
    "X_mean_iris = np.mean(X_train_iris, axis=0)\n",
    "X_std_iris = np.std(X_train_iris, axis=0)\n",
    "\n",
    "\n",
    "X_train_iris = (X_train_iris - X_mean_iris) / X_std_iris\n",
    "\n",
    "X_test = (X_test_iris - X_mean_iris) / X_std_iris"
   ]
  },
  {
   "cell_type": "markdown",
   "metadata": {},
   "source": [
    "# Modelo"
   ]
  },
  {
   "cell_type": "code",
   "execution_count": 520,
   "metadata": {},
   "outputs": [],
   "source": [
    "def relu(net):\n",
    "    return np.maximum(0, net)\n",
    "\n",
    "\n",
    "def d_relu(net):\n",
    "    return np.where(net > 0, 1, 0)\n",
    "\n",
    "\n",
    "def linear(net):\n",
    "    return net\n",
    "\n",
    "\n",
    "def d_linear(net):\n",
    "    return 1\n",
    "\n",
    "\n",
    "def sigmoid(net):\n",
    "    return 1 / (1 + np.exp(-net))\n",
    "\n",
    "\n",
    "def d_sigmoid(net):\n",
    "    return sigmoid(net) * (1 - sigmoid(net))\n",
    "\n",
    "\n",
    "def softmax(net):\n",
    "    exp_net = np.exp(net)\n",
    "    return exp_net / np.sum(exp_net)\n",
    "\n",
    "\n",
    "def d_softmax(net):\n",
    "    return softmax(net) * (1 - softmax(net))\n",
    "\n",
    "\n",
    "def tanh(x):\n",
    "    return np.tanh(x)\n",
    "\n",
    "\n",
    "def d_tanh(x):\n",
    "    return 1 - np.tanh(x) ** 2\n",
    "\n",
    "\n",
    "def categorical_crossentropy(y_true, y_pred):\n",
    "    # Clipping to avoid log(0)\n",
    "    y_pred = np.clip(y_pred, 1e-15, 1 - 1e-15)\n",
    "    return -np.sum(y_true * np.log(y_pred))\n",
    "\n",
    "\n",
    "def d_categorical_crossentropy(y_true, y_pred):\n",
    "    y_pred = np.clip(y_pred, 1e-15, 1 - 1e-15)\n",
    "    return -(y_true / y_pred)\n",
    "\n",
    "\n",
    "def mse(y_true, y_pred):\n",
    "    return np.mean(np.power((y_pred - y_true), 2))\n",
    "\n",
    "\n",
    "def d_mse(y_true, y_pred):\n",
    "    return 2 * (y_pred - y_true) / y_true.size\n",
    "\n",
    "\n",
    "class Layer:\n",
    "    def __init__(self):\n",
    "        self.input = None\n",
    "        self.output = None\n",
    "\n",
    "    def forward(self, input):\n",
    "        raise NotImplementedError\n",
    "\n",
    "    def backward(self, output_error, learnign_rate):\n",
    "        raise NotImplementedError\n",
    "\n",
    "\n",
    "class FCLayer(Layer):\n",
    "    def __init__(self, input_size, output_size):\n",
    "        self.weights = np.random.normal(\n",
    "            0, np.sqrt(2 / (input_size + output_size)), (input_size, output_size)\n",
    "        )\n",
    "        self.bias = np.zeros(output_size)\n",
    "        self.weights_cache = np.zeros_like(self.weights)\n",
    "        self.bias_cache = np.zeros_like(self.bias)\n",
    "\n",
    "    def forward(self, input):\n",
    "        self.input = input\n",
    "        self.output = np.dot(self.input, self.weights) + self.bias\n",
    "        return self.output\n",
    "\n",
    "    def backward(self, output_error, learning_rate, l1_lambda=0.0, l2_lambda=0.0):\n",
    "        input_error = np.dot(output_error, self.weights.T)\n",
    "        weights_error = np.dot(self.input.reshape(1, -1).T, output_error.reshape(1, -1))\n",
    "        bias_error = np.sum(output_error, axis=0, keepdims=True)\n",
    "\n",
    "        weights_error += (\n",
    "            l1_lambda * np.sign(self.weights) + 2 * l2_lambda * self.weights\n",
    "        )\n",
    "\n",
    "        self.weights_cache += weights_error**2\n",
    "        self.bias_cache += bias_error**2\n",
    "\n",
    "        self.weights -= (\n",
    "            learning_rate * weights_error / (np.sqrt(self.weights_cache) + 1e-8)\n",
    "        )\n",
    "        self.bias -= learning_rate * bias_error / (np.sqrt(self.bias_cache) + 1e-8)\n",
    "\n",
    "        return input_error\n",
    "\n",
    "\n",
    "class ActivationLayer(Layer):\n",
    "    def __init__(self, activation, activation_derivative):\n",
    "        self.activation = activation\n",
    "        self.activation_derivative = activation_derivative\n",
    "\n",
    "    def forward(self, input):\n",
    "        self.input = input\n",
    "        self.output = self.activation(self.input)\n",
    "        return self.output\n",
    "\n",
    "    def backward(self, output_error, learning_rate):\n",
    "        return self.activation_derivative(self.input) * output_error\n",
    "\n",
    "\n",
    "class Network:\n",
    "    def __init__(self):\n",
    "        self.layers = []\n",
    "        self.loss = None\n",
    "        self.loss_derivative = None\n",
    "\n",
    "    def add(self, layer):\n",
    "        self.layers.append(layer)\n",
    "\n",
    "    def loss_use(self, loss, loss_derivative):\n",
    "        self.loss = loss\n",
    "        self.loss_derivative = loss_derivative\n",
    "\n",
    "    def predict(self, input):\n",
    "        result = []\n",
    "        for obs in range(input.shape[0]):\n",
    "            output = input[obs, :]\n",
    "            for layer in self.layers:\n",
    "                output = layer.forward(output)\n",
    "            result.append(output)\n",
    "        return np.array(result)\n",
    "\n",
    "    def train(\n",
    "        self,\n",
    "        x_train,\n",
    "        y_train,\n",
    "        epoch=100,\n",
    "        batch_size=10,\n",
    "        learning_rate=0.01,\n",
    "        seed=42,\n",
    "        l1_lambda=0.0,\n",
    "        l2_lambda=0.0,\n",
    "    ):\n",
    "        np.random.seed(seed)\n",
    "        self.batch_size = batch_size\n",
    "        self.total_sample = x_train.shape[0]\n",
    "        self.l1_lambda = l1_lambda\n",
    "        self.l2_lambda = l2_lambda\n",
    "\n",
    "        if self.batch_size < 1 or self.batch_size > self.total_sample:\n",
    "            self.batch_size = self.total_sample\n",
    "\n",
    "        self.indices = np.random.choice(self.total_sample, self.batch_size, replace=False)\n",
    "        self.mini_batch = x_train[self.indices, :]\n",
    "        y_train = y_train[self.indices]\n",
    "\n",
    "        losses = []\n",
    "\n",
    "        for i in range(epoch):\n",
    "            err = 0\n",
    "            for obs in range(self.batch_size):\n",
    "                output = self.mini_batch[obs, :]\n",
    "                for layer in self.layers:\n",
    "                    output = layer.forward(output)\n",
    "\n",
    "                # Calcular perda com penalização L1 e L2\n",
    "                loss = self.loss(y_train[obs], output)  # type: ignore\n",
    "                l1_penalty = sum(\n",
    "                    np.abs(layer.weights).sum()\n",
    "                    for layer in self.layers\n",
    "                    if isinstance(layer, FCLayer)\n",
    "                )\n",
    "                l2_penalty = sum(\n",
    "                    np.square(layer.weights).sum()\n",
    "                    for layer in self.layers\n",
    "                    if isinstance(layer, FCLayer)\n",
    "                )\n",
    "                loss += l1_lambda * l1_penalty + l2_lambda * l2_penalty\n",
    "                err += loss\n",
    "\n",
    "                # Backpropagation\n",
    "                erro = self.loss_derivative(y_train[obs], output)  # type: ignore\n",
    "                for layer in reversed(self.layers):\n",
    "                    if isinstance(layer, FCLayer):\n",
    "                        erro = layer.backward(\n",
    "                            erro, learning_rate, self.l1_lambda, self.l2_lambda\n",
    "                        )\n",
    "                    else:\n",
    "                        erro = layer.backward(erro, learning_rate)\n",
    "\n",
    "            err /= self.batch_size\n",
    "            print(\"epoch %d/%d   error=%f\" % (i + 1, epoch, err))\n",
    "            losses.append(err)\n",
    "\n",
    "        import matplotlib.pyplot as plt\n",
    "\n",
    "        plt.plot(losses)\n",
    "        plt.title(\"Função de Perda no Treinamento\")\n",
    "        plt.xlabel(\"epoch\")\n",
    "        plt.ylabel(\"Loss\")\n",
    "        plt.grid()\n",
    "        plt.show()"
   ]
  },
  {
   "cell_type": "markdown",
   "metadata": {},
   "source": [
    "A estrutura do código implementa uma rede neural feedforward (totalmente conectada) com funcionalidades de regularização L1 e L2, otimização Adagrad e suporte para diferentes funções de ativação e funções de perda. Vamos detalhar cada parte:\n",
    "\n",
    "**1. Funções de Ativação e suas Derivadas:**\n",
    "\n",
    "*   **`relu(net)`:** Implementa a função ReLU (Rectified Linear Unit). Retorna `net` se `net` > 0, e 0 caso contrário. É uma função não linear que ajuda a rede a aprender padrões complexos.\n",
    "*   **`d_relu(net)`:** Calcula a derivada da função ReLU. Retorna 1 se `net` > 0, e 0 caso contrário.\n",
    "*   **`linear(net)`:** Implementa uma função linear, que apenas retorna o valor de `net` sem modificação.\n",
    "*   **`d_linear(net)`:** Calcula a derivada da função linear, que é sempre 1.\n",
    "*   **`sigmoid(net)`:** Implementa a função sigmoide, que mapeia qualquer valor para um intervalo entre 0 e 1. Útil em problemas de classificação binária.\n",
    "*   **`d_sigmoid(net)`:** Calcula a derivada da função sigmoide.\n",
    "*   **`softmax(net)`:** Implementa a função softmax, que converte um vetor de valores para uma distribuição de probabilidade (soma 1). Usada em problemas de classificação multiclasse.\n",
    "*   **`d_softmax(net)`:** Calcula a derivada da função softmax.\n",
    "*   **`tanh(x)`:** Implementa a função tangente hiperbólica, que mapeia valores para um intervalo entre -1 e 1.\n",
    "*  **`d_tanh(x)`:** Calcula a derivada da função tangente hiperbólica.\n",
    "\n",
    "**2. Funções de Perda (Loss Functions) e suas Derivadas:**\n",
    "\n",
    "*   **`categorical_crossentropy(y_true, y_pred)`:** Implementa a função de perda categorical cross-entropy, usada em problemas de classificação multiclasse. Ela mede a diferença entre a distribuição de probabilidade prevista (`y_pred`) e a real (`y_true`).\n",
    "    *   Para evitar erros de `log(0)`, um valor muito pequeno (1e-15) é utilizado na saída.\n",
    "*   **`d_categorical_crossentropy(y_true, y_pred)`:** Calcula a derivada da função categorical cross-entropy.\n",
    " *     Para evitar erros de divisão por 0, um valor muito pequeno (1e-15) é usado para fazer a previsão.\n",
    "*   **`mse(y_true, y_pred)`:** Implementa a função de perda Mean Squared Error (Erro Quadrático Médio). Usada em problemas de regressão. Ela calcula a média do quadrado das diferenças entre a predição e o valor real.\n",
    "*   **`d_mse(y_true, y_pred)`:** Calcula a derivada da função Mean Squared Error.\n",
    "\n",
    "**3. Classe `Layer` (Classe Base):**\n",
    "\n",
    "*   **`__init__(self)`:** Inicializa um objeto da classe Layer. As variáveis `input` e `output` recebem o valor `None` inicialmente.\n",
    "*   **`forward(self, input)`:**  É um método abstrato que deve ser implementado pelas subclasses. Define a passagem para frente (forward pass), aplicando a lógica da camada na entrada.\n",
    "*   **`backward(self, output_error, learning_rate)`:** É um método abstrato que deve ser implementado pelas subclasses. Define a retropropagação (backward pass), calculando o erro e ajustando os pesos.\n",
    "\n",
    "**4. Classe `FCLayer` (Fully Connected Layer):**\n",
    "\n",
    "*   **`__init__(self, input_size, output_size)`:** Inicializa uma camada totalmente conectada.\n",
    "    *   `self.weights`: Inicializa os pesos com valores aleatórios de acordo com a distribuição de Xavier (normal). A distribuição de Xavier é uma técnica que inicializa os pesos baseado no número de entradas e saídas, ajudando a rede a convergir mais rápido e reduzir erros de vanishing gradient e exploding gradient.\n",
    "    *   `self.bias`: Inicializa os bias com zeros.\n",
    "    *   `self.weights_cache` e `self.bias_cache`: Inicializa os arrays de cache para armazenar a soma dos quadrados dos pesos e bias para o otimizador Adagrad\n",
    "*   **`forward(self, input)`:** Implementa a passagem para frente.\n",
    "    *   Armazena o `input` da camada para uso durante a retropropagação.\n",
    "    *   Calcula a saída multiplicando a entrada pelos pesos (`np.dot(self.input, self.weights)`) e somando o bias.\n",
    "*   **`backward(self, output_error, learning_rate, l1_lambda=0, l2_lambda=0)`:** Implementa a retropropagação.\n",
    "     *   Calcula o erro de entrada (`input_error`).\n",
    "       *  Calcula o erro nos pesos (`weights_error`) com base no erro da saída e na entrada.\n",
    "         *  Aplica a regularização L1 (Lasso) e L2 (Ridge) aos pesos. Se `l1_lambda` e `l2_lambda` forem maiores que 0, uma das regularizações vai ser aplicada aleatoriamente, se não, as duas serão aplicadas juntas no erro dos pesos.\n",
    "           *   **L1 Regularization:** Adiciona ao gradiente o termo `l1_lambda * np.sign(self.weights)`, que puxa os pesos em direção a zero.\n",
    "           *   **L2 Regularization:** Adiciona ao gradiente o termo `l2_lambda * self.weights`, que faz os pesos ficarem menores.\n",
    "     *   Atualiza os pesos e bias com o algoritmo Adagrad.\n",
    "\n",
    "**5. Classe `ActivationLayer`:**\n",
    "\n",
    "*   **`__init__(self, activation, activation_derivative)`:** Inicializa uma camada de ativação. Recebe a função de ativação (`activation`) e sua derivada (`activation_derivative`).\n",
    "*   **`forward(self, input)`:** Implementa a passagem para frente, aplicando a função de ativação na entrada.\n",
    "*   **`backward(self, output_error, learning_rate)`:** Implementa a retropropagação, calculando o erro de entrada aplicando a derivada da função de ativação no erro da saída.\n",
    "\n",
    "**6. Classe `Network`:**\n",
    "\n",
    "*   **`__init__(self)`:** Inicializa uma rede neural, criando um array vazio de camadas e inicializando `loss` e `loss_derivative` como `None`.\n",
    "*   **`add(self, layer)`:** Adiciona uma camada ao array de camadas da rede (`self.layers`).\n",
    "*   **`loss_use(self, loss, loss_derivative)`:** Define a função de perda (`loss`) e sua derivada (`loss_derivative`) que vai ser usada no treinamento da rede.\n",
    "*   **`predict(self, input)`:** Faz uma predição para cada observação do input, passando a entrada por cada camada da rede.\n",
    "*  **`train(self, x_train, y_train, epoch=100, batch_size=10, learning_rate=0.01, seed=42, l1_lambda=0.0, l2_lambda=0.0)`:** Implementa o treinamento da rede.\n",
    "    *   `np.random.seed(seed)`: Garante que os resultados sejam os mesmos toda vez que o código rodar, com o mesmo valor de seed.\n",
    "    *  `self.batch_size`: Guarda o valor do tamanho da amostra que vai ser usada para o backpropagation.\n",
    "        *  `self.total_sample`: Guarda o valor do tamanho do conjunto de dados de treinamento.\n",
    "        *   Se o `batch_size` for menor que 1 ou maior que o tamanho total de amostras, o `batch_size` recebe o valor de total de amostras.\n",
    "        *   Faz um sorteio aleatório (sem reposição) para escolher as amostras a serem usadas no `batch_size` atual, com os indices das amostras a serem pegas.\n",
    "        *   Pega os valores das amostras a serem utilizadas para o treinamento em `self.mini_batch`.\n",
    "        *   Pega os rótulos das amostras a serem utilizadas em `y_train`.\n",
    "    *   **Loop de Épocas:** Para cada época, itera pelo número de vezes que foi definida.\n",
    "      *   Para cada amostra do `mini_batch` é feito o `forward` da rede, para pegar os valores de saída.\n",
    "        *   Calcula o erro da predição atual (`err += self.loss(y_train[obs], output)`) com base na função de perda (`self.loss`).\n",
    "          *   Calcula o erro para fazer a retropropagação na rede com base na derivada da função de perda (`erro = self.loss_derivative(y_train[obs], output)`).\n",
    "            *   Faz o `backward` das camadas, de trás para frente, para atualizar os pesos de acordo com o erro (`erro = layer.backward(erro, learning_rate, l1_lambda = self.l1_lambda, l2_lambda = self.l2_lambda)`).\n",
    "            * Se for do tipo `FCLayer`, passa os parâmetros `l1_lambda` e `l2_lambda`.\n",
    "          * Calcula o erro médio da época dividindo o valor total pelo tamanho do `batch_size`.\n",
    "            * Imprime os valores da época atual e o valor do erro.\n",
    "              * Guarda o erro da época no array `losses`.\n",
    "    *  Ao final do treinamento, plota o gráfico do erro em cada iteração (época) do treinamento.\n",
    "\n",
    "**Resumo**\n",
    "\n",
    "Esta implementação fornece uma estrutura básica para uma rede neural feedforward com:\n",
    "\n",
    "*   Funções de ativação comuns (ReLU, sigmoid, softmax, tanh).\n",
    "*   Funções de perda (categorical cross-entropy, MSE).\n",
    "*   Regularização L1/L2 e método de otimização Adagrad.\n",
    "*   Flexibilidade para definir a estrutura da rede (número e tipo de camadas)."
   ]
  },
  {
   "cell_type": "markdown",
   "metadata": {},
   "source": [
    "## Insurance"
   ]
  },
  {
   "cell_type": "markdown",
   "metadata": {},
   "source": [
    "### Estrutura da Rede"
   ]
  },
  {
   "cell_type": "code",
   "execution_count": 521,
   "metadata": {},
   "outputs": [],
   "source": [
    "net_insurance_1 = Network()\n",
    "net_insurance_1.add(FCLayer(X_train_insurance.shape[1], 128)) \n",
    "net_insurance_1.add(ActivationLayer(relu, d_relu)) \n",
    "net_insurance_1.add(FCLayer(128, 256)) \n",
    "net_insurance_1.add(ActivationLayer(relu, d_relu)) \n",
    "net_insurance_1.add(FCLayer(256, 800))\n",
    "net_insurance_1.add(ActivationLayer(relu, d_relu)) \n",
    "net_insurance_1.add(FCLayer(800, 256))\n",
    "net_insurance_1.add(ActivationLayer(relu, d_relu))\n",
    "net_insurance_1.add(FCLayer(256, 1))\n",
    "net_insurance_1.add(ActivationLayer(linear, d_linear))\n",
    "net_insurance_1.loss_use(mse, d_mse)"
   ]
  },
  {
   "cell_type": "code",
   "execution_count": 522,
   "metadata": {},
   "outputs": [],
   "source": [
    "net_insurance_2 = Network()\n",
    "net_insurance_2.add(FCLayer(X_train_insurance.shape[1], 128)) \n",
    "net_insurance_2.add(ActivationLayer(relu, d_relu))\n",
    "net_insurance_2.add(FCLayer(128, 256))\n",
    "net_insurance_2.add(ActivationLayer(relu, d_relu)) \n",
    "net_insurance_2.add(FCLayer(256, 800))\n",
    "net_insurance_2.add(ActivationLayer(relu, d_relu)) \n",
    "net_insurance_2.add(FCLayer(800, 256))\n",
    "net_insurance_2.add(ActivationLayer(relu, d_relu))\n",
    "net_insurance_2.add(FCLayer(256, 1))\n",
    "net_insurance_2.add(ActivationLayer(linear, d_linear))\n",
    "net_insurance_2.loss_use(mse, d_mse)"
   ]
  },
  {
   "cell_type": "markdown",
   "metadata": {},
   "source": [
    "Para o banco de dados Insurance, foram propostas duas redes neurais para regressão, ambas com a mesma estrutura. A única diferença entre os modelos é a variação no hiperparâmetro de L2-regularização (normalização).\n",
    "\n",
    "A estrutura da rede neural é composta por 6 valores de entrada, conectados à primeira camada oculta com 128 neurônios. Essa camada está totalmente conectada à segunda camada oculta com 256 neurônios, que, por sua vez, está conectada à terceira camada com 800 neurônios. A quarta camada possui 256 neurônios, e a camada de saída contém 1 neurônio com função de ativação linear. Todas as camadas ocultas utilizam a função de ativação ReLU."
   ]
  },
  {
   "cell_type": "markdown",
   "metadata": {},
   "source": [
    "### Treinamento"
   ]
  },
  {
   "cell_type": "code",
   "execution_count": null,
   "metadata": {},
   "outputs": [],
   "source": [
    "net_insurance_1.train(\n",
    "    X_train_insurance,\n",
    "    Y_train_insurance,\n",
    "    epoch=1000,\n",
    "    batch_size=32,\n",
    "    learning_rate=0.0001,\n",
    "    seed=42,\n",
    ")"
   ]
  },
  {
   "cell_type": "code",
   "execution_count": null,
   "metadata": {},
   "outputs": [],
   "source": [
    "net_insurance_2.train(\n",
    "    X_train_insurance,\n",
    "    Y_train_insurance,\n",
    "    epoch=1000,\n",
    "    batch_size=32,\n",
    "    learning_rate=0.0001,\n",
    "    seed=42,\n",
    "    l2_lambda=0.01\n",
    ")"
   ]
  },
  {
   "cell_type": "markdown",
   "metadata": {},
   "source": [
    "Nos gráficos apresentado, nota-se que o segundo modelo, ao empregar a regularização L2 com intensidade de 0.01, restringiu o aprendizado dos dados. O modelo 2 alcançou um erro de 5.15 na última época, enquanto o modelo 1 obteve um erro de apenas 0.006. Esse aumento no erro é resultado da atuação da regularização L2. Portanto, ao aplicar essa técnica, é aconselhável aumentar ligeiramente o número de épocas de treinamento. O objetivo principal da regularização é, no entanto, promover uma maior capacidade de generalização do modelo. Para verificar se essa hipótese se concretizou, observe os gráficos de dispersão para os dados de teste de ambos os modelos a seguir."
   ]
  },
  {
   "cell_type": "markdown",
   "metadata": {},
   "source": [
    "### Teste"
   ]
  },
  {
   "cell_type": "code",
   "execution_count": 525,
   "metadata": {},
   "outputs": [],
   "source": [
    "out_insurance_1 = net_insurance_1.predict(X_test_insurance)\n",
    "out_insurance_2 = net_insurance_2.predict(X_test_insurance)"
   ]
  },
  {
   "cell_type": "code",
   "execution_count": 526,
   "metadata": {},
   "outputs": [],
   "source": [
    "results_df = pd.DataFrame(\n",
    "    {\"Valor Real\": Y_test_insurance, \"Valor Predito (Modelo 1)\": out_insurance_1.flatten(), \"Valor Predito (Modelo 2)\": out_insurance_2.flatten()}\n",
    ")"
   ]
  },
  {
   "cell_type": "code",
   "execution_count": 527,
   "metadata": {},
   "outputs": [
    {
     "data": {
      "image/png": "[encoded data removed]",
      "text/plain": [
       "<Figure size 1800x600 with 2 Axes>"
      ]
     },
     "metadata": {},
     "output_type": "display_data"
    }
   ],
   "source": [
    "fig, axes = plt.subplots(1, 2, figsize=(18, 6))\n",
    "\n",
    "axes[0].scatter(results_df[\"Valor Real\"], results_df[\"Valor Predito (Modelo 1)\"])\n",
    "axes[0].set_xlabel(\"Valores Reais\")\n",
    "axes[0].set_ylabel(\"Predições\")\n",
    "axes[0].set_title(\"Previsões vs. Valores Reais - Modelo 1\")\n",
    "axes[0].grid()\n",
    "\n",
    "axes[1].scatter(results_df[\"Valor Real\"], results_df[\"Valor Predito (Modelo 2)\"])\n",
    "axes[1].set_xlabel(\"Valores Reais\")\n",
    "axes[1].set_ylabel(\"Predições\")\n",
    "axes[1].set_title(\"Previsões vs. Valores Reais - Modelo 2\")\n",
    "axes[1].grid()\n",
    "\n",
    "plt.tight_layout()\n",
    "plt.show()"
   ]
  },
  {
   "cell_type": "code",
   "execution_count": 528,
   "metadata": {},
   "outputs": [
    {
     "name": "stdout",
     "output_type": "stream",
     "text": [
      "0.2092114762329098\n",
      "0.2299473142862583\n"
     ]
    }
   ],
   "source": [
    "print(mse(results_df[\"Valor Real\"], results_df[\"Valor Predito (Modelo 1)\"]))\n",
    "print(mse(results_df[\"Valor Real\"], results_df[\"Valor Predito (Modelo 2)\"]))"
   ]
  },
  {
   "cell_type": "markdown",
   "metadata": {},
   "source": [
    "o analisarmos o gráfico e o erro quadrático médio (MSE), observamos que o modelo 1 proporcionou uma pequena melhoria na previsão para os dados de treinamento. Contudo, essa diferença não se mostrou tão expressiva quanto a penalidade imposta pela regularização L2 ao MSE de treinamento apresentado pelo modelo 2.\n",
    "\n",
    "Para uma comparação adicional, propôs-se, em seguida, a mesma arquitetura de rede neural, mas utilizando a biblioteca `keras`."
   ]
  },
  {
   "cell_type": "markdown",
   "metadata": {},
   "source": [
    "### Comparando com o Keras"
   ]
  },
  {
   "cell_type": "code",
   "execution_count": 529,
   "metadata": {},
   "outputs": [],
   "source": [
    "def net_insurance_keras():\n",
    "    np.random.seed(42)\n",
    "    modelo = models.Sequential()\n",
    "    modelo.add(Dense(128, activation=\"relu\", input_shape=(X_train_insurance.shape[1],)))\n",
    "    modelo.add(Dense(256, activation=\"relu\"))\n",
    "    modelo.add(Dense(800, activation=\"relu\"))\n",
    "    modelo.add(Dense(256, activation=\"relu\"))\n",
    "    modelo.add(Dense(1, activation=\"linear\"))\n",
    "    # Configurando o Adagrad com taxa de aprendizado de 0.01\n",
    "    adagrad = Adagrad(learning_rate=0.01)\n",
    "    modelo.compile(optimizer=adagrad, loss=\"mse\")\n",
    "\n",
    "    return modelo"
   ]
  },
  {
   "cell_type": "code",
   "execution_count": 530,
   "metadata": {},
   "outputs": [],
   "source": [
    "net_insurance_keras = net_insurance_keras()"
   ]
  },
  {
   "cell_type": "code",
   "execution_count": null,
   "metadata": {},
   "outputs": [],
   "source": [
    "hist_insurance = net_insurance_keras.fit(\n",
    "    X_train_insurance, Y_train_insurance, epochs=1000, batch_size=32\n",
    ")"
   ]
  },
  {
   "cell_type": "code",
   "execution_count": 532,
   "metadata": {},
   "outputs": [
    {
     "data": {
      "image/png": "[encoded data removed]",
      "text/plain": [
       "<Figure size 640x480 with 1 Axes>"
      ]
     },
     "metadata": {},
     "output_type": "display_data"
    }
   ],
   "source": [
    "plt.plot(\n",
    "    range(1, len(hist_insurance.history[\"loss\"]) + 1),\n",
    "    hist_insurance.history[\"loss\"],\n",
    "    \"-\",\n",
    "    color=\"blue\",\n",
    "    label=\"Loss de treinamento\",\n",
    ")\n",
    "plt.title(\"Loss no Treinamento e na Validação\", fontsize=16)\n",
    "plt.xlabel(\"epoch\", fontsize=14)\n",
    "plt.ylabel(\"Loss\", fontsize=14)\n",
    "plt.legend()\n",
    "plt.grid(True)\n",
    "\n",
    "plt.tight_layout()\n",
    "plt.show()"
   ]
  },
  {
   "cell_type": "code",
   "execution_count": 533,
   "metadata": {},
   "outputs": [
    {
     "name": "stdout",
     "output_type": "stream",
     "text": [
      "WARNING:tensorflow:5 out of the last 16 calls to <function TensorFlowTrainer.make_predict_function.<locals>.one_step_on_data_distributed at 0x9ecf14d0c20> triggered tf.function retracing. Tracing is expensive and the excessive number of tracings could be due to (1) creating @tf.function repeatedly in a loop, (2) passing tensors with different shapes, (3) passing Python objects instead of tensors. For (1), please define your @tf.function outside of the loop. For (2), @tf.function has reduce_retracing=True option that can avoid unnecessary retracing. For (3), please refer to https://www.tensorflow.org/guide/function#controlling_retracing and https://www.tensorflow.org/api_docs/python/tf/function for  more details.\n",
      "\u001b[1m9/9\u001b[0m \u001b[32m━━━━━━━━━━━━━━━━━━━━\u001b[0m\u001b[37m\u001b[0m \u001b[1m0s\u001b[0m 9ms/step\n",
      "   Valor Real  Valor Predito (Modelo 1)  Valor Predito (Modelo 2)  \\\n",
      "0     -0.4068                   -0.2609                   -0.4171   \n",
      "1      2.1816                    1.9924                    2.0984   \n",
      "2      1.7929                    1.2999                    0.7269   \n",
      "3      0.1778                    0.9413                    0.3323   \n",
      "4     -0.2107                   -0.2327                   -0.2111   \n",
      "\n",
      "   Valor Predito (Keras)  \n",
      "0                -0.3654  \n",
      "1                 2.2232  \n",
      "2                 0.0300  \n",
      "3                -0.0725  \n",
      "4                -0.3287  \n"
     ]
    }
   ],
   "source": [
    "out_insurance_keras = net_insurance_keras.predict(X_test_insurance)\n",
    "\n",
    "results_df[\"Valor Predito (Keras)\"] = out_insurance_keras.flatten()\n",
    "\n",
    "# Exibir o DataFrame\n",
    "print(results_df.head())"
   ]
  },
  {
   "cell_type": "code",
   "execution_count": 559,
   "metadata": {},
   "outputs": [
    {
     "data": {
      "image/png": "[encoded data removed]",
      "text/plain": [
       "<Figure size 1800x600 with 3 Axes>"
      ]
     },
     "metadata": {},
     "output_type": "display_data"
    }
   ],
   "source": [
    "fig, axes = plt.subplots(1, 3, figsize=(18, 6))\n",
    "\n",
    "axes[0].scatter(results_df[\"Valor Real\"], results_df[\"Valor Predito (Modelo 1)\"])\n",
    "axes[0].set_xlabel(\"Valores Reais\")\n",
    "axes[0].set_ylabel(\"Predições\")\n",
    "axes[0].set_title(\"Previsões vs. Valores Reais - Modelo 1\")\n",
    "axes[0].grid()\n",
    "\n",
    "axes[1].scatter(results_df[\"Valor Real\"], results_df[\"Valor Predito (Modelo 2)\"])\n",
    "axes[1].set_xlabel(\"Valores Reais\")\n",
    "axes[1].set_ylabel(\"Predições\")\n",
    "axes[1].set_title(\"Previsões vs. Valores Reais - Modelo 2\")\n",
    "axes[1].grid()\n",
    "\n",
    "axes[2].scatter(results_df[\"Valor Real\"], results_df[\"Valor Predito (Keras)\"])\n",
    "axes[2].set_xlabel(\"Valores Reais\")\n",
    "axes[2].set_ylabel(\"Predições\")\n",
    "axes[2].set_title(\"Previsões vs. Valores Reais - Keras\")\n",
    "axes[2].grid()\n",
    "\n",
    "plt.tight_layout()\n",
    "\n",
    "plt.show()"
   ]
  },
  {
   "cell_type": "code",
   "execution_count": 535,
   "metadata": {},
   "outputs": [
    {
     "name": "stdout",
     "output_type": "stream",
     "text": [
      "MSE - Modelo 1: 0.2092114762329098\n",
      "MSE - Modelo 2: 0.2299473142862583\n",
      "MSE - Modelo Keras: 0.23002768318774464\n"
     ]
    }
   ],
   "source": [
    "print(\n",
    "    \"MSE - Modelo 1:\",\n",
    "    mse(results_df[\"Valor Real\"], results_df[\"Valor Predito (Modelo 1)\"]),\n",
    ")\n",
    "print(\n",
    "    \"MSE - Modelo 2:\",\n",
    "    mse(results_df[\"Valor Real\"], results_df[\"Valor Predito (Modelo 2)\"]),\n",
    ")\n",
    "print(\n",
    "    \"MSE - Modelo Keras:\",\n",
    "    mse(results_df[\"Valor Real\"], results_df[\"Valor Predito (Keras)\"]),\n",
    ")"
   ]
  },
  {
   "cell_type": "code",
   "execution_count": null,
   "metadata": {},
   "outputs": [],
   "source": []
  },
  {
   "cell_type": "code",
   "execution_count": null,
   "metadata": {},
   "outputs": [],
   "source": [
    "def net_insurance_keras():\n",
    "    np.random.seed(42)\n",
    "    modelo = models.Sequential()\n",
    "    modelo.add(Dense(128, activation=\"relu\", input_shape=(X_train_insurance.shape[1],)))\n",
    "    modelo.add(Dense(256, activation=\"relu\"))\n",
    "    modelo.add(Dense(800, activation=\"relu\"))\n",
    "    modelo.add(Dense(256, activation=\"relu\"))\n",
    "    modelo.add(Dense(1, activation=\"linear\"))\n",
    "    adagrad = Adagrad(learning_rate=0.01)\n",
    "    modelo.compile(optimizer=adagrad, loss=\"mse\")\n",
    "\n",
    "    return modelo"
   ]
  },
  {
   "cell_type": "markdown",
   "metadata": {},
   "source": [
    "Conforme demonstrado no gráfico e na métrica de perda (MSE), o modelo 1 apresentou as melhores previsões, alcançando um MSE de aproximadamente 0.21. Em contraste, o modelo 2 (com regularização L2) e o modelo keras obtiveram um MSE de cerca de 0.23.\n",
    "\n",
    "Dessa forma, o modelo 1 se mostra preferível para previsões em cenários de custo baixo. É importante notar que todos os modelos apresentam alta variância nas previsões para custos de seguro elevados, o que se deve à escassez de observações na extremidade direita da distribuição dos custos.\n",
    "\n",
    "A arquitetura da rede neural utilizada, comum a todos os modelos, é composta pelas seguintes camadas:\n",
    "\n",
    "| Camada            | Tipo           | Neurônios | Função de Ativação | Observações                      |\n",
    "|--------------------|----------------|-----------|--------------------|----------------------------------|\n",
    "| Entrada           | -              | 6 (input) | -                  | Baseada no número de features do conjunto de dados `X_train_insurence` |\n",
    "| Camada Oculta 1   | Dense          | 128        | ReLu               | Primeira camada totalmente conectada |\n",
    "| Camada Oculta 2   | Dense          | 256        | ReLu               | Segunda camada totalmente conectada |\n",
    "| Camada Oculta 3   | Dense          | 800        | ReLu               | Terceira camada totalmente conectada |\n",
    "| Camada Oculta 4   | Dense          | 256        | ReLu               | Quarta camada totalmente conectada |\n",
    "| Saída             | Dense          | 1         | Linear            | Saída com 1 neurônios, representando a regressão linear do problema |\n",
    "| **Otimizador**     | **Adagrad**    | -         | -                  | Taxa de aprendizado: 0.01       |\n",
    "| **Função de Perda**| **Mean Square Error (MSE)** | - | -              | Usada para problemas de regressão |"
   ]
  },
  {
   "cell_type": "markdown",
   "metadata": {},
   "source": [
    "## Iris"
   ]
  },
  {
   "cell_type": "markdown",
   "metadata": {},
   "source": [
    "### Estrutura da Rede Neural"
   ]
  },
  {
   "cell_type": "code",
   "execution_count": 536,
   "metadata": {},
   "outputs": [],
   "source": [
    "net_iris_1 = Network()\n",
    "net_iris_1.add(FCLayer(X_train_iris.shape[1], 64))\n",
    "net_iris_1.add(ActivationLayer(tanh, d_tanh))\n",
    "net_iris_1.add(FCLayer(64, 32))\n",
    "net_iris_1.add(ActivationLayer(tanh, d_tanh))\n",
    "net_iris_1.add(FCLayer(32, 3))\n",
    "net_iris_1.add(ActivationLayer(softmax, d_softmax))\n",
    "net_iris_1.loss_use(categorical_crossentropy, d_categorical_crossentropy)"
   ]
  },
  {
   "cell_type": "code",
   "execution_count": 537,
   "metadata": {},
   "outputs": [],
   "source": [
    "net_iris_2 = Network()\n",
    "net_iris_2.add(FCLayer(X_train_iris.shape[1], 64))\n",
    "net_iris_2.add(ActivationLayer(tanh, d_tanh))\n",
    "net_iris_2.add(FCLayer(64, 32))\n",
    "net_iris_2.add(ActivationLayer(tanh, d_tanh))\n",
    "net_iris_2.add(FCLayer(32, 3))\n",
    "net_iris_2.add(ActivationLayer(softmax, d_softmax))\n",
    "net_iris_2.loss_use(categorical_crossentropy, d_categorical_crossentropy)"
   ]
  },
  {
   "cell_type": "markdown",
   "metadata": {},
   "source": [
    "Para o banco de dados Iris, foram propostas duas redes neurais para classificação multiclasse, ambas com a mesma estrutura. A única diferença entre os modelos é a variação no valor do hiperparâmetro de L2-regularização (normalização).\n",
    "\n",
    "A estrutura da rede neural é composta por 4 valores de entrada, conectados à primeira camada oculta com 64 neurônios. Essa camada está totalmente conectada à segunda camada oculta, que possui 32 neurônios, e a camada de saída contém 3 neurônios, com a função de ativação softmax para selecionar o argumento máximo (maior probabilidade) da classe. Todas as camadas ocultas utilizam a função de ativação tanh."
   ]
  },
  {
   "cell_type": "markdown",
   "metadata": {},
   "source": [
    "### Treinamento"
   ]
  },
  {
   "cell_type": "code",
   "execution_count": null,
   "metadata": {},
   "outputs": [],
   "source": [
    "net_iris_1.train(\n",
    "    X_train_iris,\n",
    "    Y_train_iris_one_hot,\n",
    "    epoch=1000,\n",
    "    batch_size=32,\n",
    "    learning_rate=0.001,\n",
    "    seed=42,\n",
    ")"
   ]
  },
  {
   "cell_type": "code",
   "execution_count": null,
   "metadata": {},
   "outputs": [],
   "source": [
    "net_iris_2.train(\n",
    "    X_train_iris,\n",
    "    Y_train_iris_one_hot,\n",
    "    epoch=1000,\n",
    "    batch_size=32,\n",
    "    learning_rate=0.001,\n",
    "    seed=42,\n",
    "    l2_lambda=0.001,\n",
    ")"
   ]
  },
  {
   "cell_type": "markdown",
   "metadata": {},
   "source": [
    "No histórico de erros e no gráfico acima, podemos observar que ambos os modelos apresentaram uma queda de erro praticamente idêntica, com o modelo 2 exibindo apenas um erro levemente maior. Isso sugere que a regularização L2 não trouxe mudanças significativas para o aprendizado da rede. Para uma análise mais detalhada do desempenho, apresentamos abaixo a matriz de confusão para os dados de teste."
   ]
  },
  {
   "cell_type": "markdown",
   "metadata": {},
   "source": [
    "### Teste"
   ]
  },
  {
   "cell_type": "code",
   "execution_count": 540,
   "metadata": {},
   "outputs": [],
   "source": [
    "out_iris_1 = net_iris_1.predict(X_test_iris)\n",
    "out_iris_2 = net_iris_2.predict(X_test_iris)"
   ]
  },
  {
   "cell_type": "code",
   "execution_count": 541,
   "metadata": {},
   "outputs": [],
   "source": [
    "argmax_iris_1 = []\n",
    "argmax_iris_2 = []\n",
    "for i in range(X_test_iris.shape[0]):\n",
    "    argmax_iris_1.append(np.argmax(out_iris_1[i]))\n",
    "    argmax_iris_2.append(np.argmax(out_iris_2[i]))"
   ]
  },
  {
   "cell_type": "code",
   "execution_count": 542,
   "metadata": {},
   "outputs": [],
   "source": [
    "results_df_iris = {'Valor Real': Y_test_iris, 'Valor Predito (Modelo 1)': argmax_iris_1, 'Valor Predito (Modelo 2)': argmax_iris_2}"
   ]
  },
  {
   "cell_type": "code",
   "execution_count": 543,
   "metadata": {},
   "outputs": [
    {
     "data": {
      "image/png": "[encoded data removed]",
      "text/plain": [
       "<Figure size 1200x600 with 3 Axes>"
      ]
     },
     "metadata": {},
     "output_type": "display_data"
    }
   ],
   "source": [
    "y_true = results_df_iris[\"Valor Real\"]\n",
    "y_pred_1 = results_df_iris[\"Valor Predito (Modelo 1)\"]\n",
    "y_pred_2 = results_df_iris[\"Valor Predito (Modelo 2)\"]\n",
    "\n",
    "cm_1 = confusion_matrix(y_true, y_pred_1)\n",
    "cm_2 = confusion_matrix(y_true, y_pred_2)\n",
    "\n",
    "fig, axes = plt.subplots(\n",
    "    1, 2, figsize=(12, 6), gridspec_kw={\"width_ratios\": [1, 1], \"wspace\": 0.4}\n",
    ")\n",
    "\n",
    "norm = plt.Normalize(vmin=0, vmax=np.max([cm_1, cm_2]))\n",
    "sm = plt.cm.ScalarMappable(cmap=\"Greens\", norm=norm)\n",
    "sm.set_array([])\n",
    "\n",
    "disp_1 = ConfusionMatrixDisplay(confusion_matrix=cm_1)\n",
    "disp_1.plot(cmap=\"Greens\", ax=axes[0], colorbar=False)\n",
    "axes[0].set_title(\"Matriz de Confusão - Modelo 1 (teste)\")\n",
    "axes[0].set_xlabel(\"Predito\")\n",
    "axes[0].set_ylabel(\"Real\")\n",
    "\n",
    "disp_2 = ConfusionMatrixDisplay(confusion_matrix=cm_2)\n",
    "disp_2.plot(cmap=\"Greens\", ax=axes[1], colorbar=False)\n",
    "axes[1].set_title(\"Matriz de Confusão - Modelo 2 (teste)\")\n",
    "axes[1].set_xlabel(\"Predito\")\n",
    "axes[1].set_ylabel(\"Real\")\n",
    "\n",
    "cbar = fig.colorbar(sm, ax=axes, location=\"right\", fraction=0.02, pad=0.1)\n",
    "cbar.set_label(\"Frequência\")\n",
    "\n",
    "plt.tight_layout()\n",
    "plt.show()"
   ]
  },
  {
   "cell_type": "code",
   "execution_count": 544,
   "metadata": {},
   "outputs": [
    {
     "name": "stdout",
     "output_type": "stream",
     "text": [
      "{'species': {'Iris-setosa': 0, 'Iris-versicolor': 1, 'Iris-virginica': 2}}\n"
     ]
    }
   ],
   "source": [
    "print(categ_iris)"
   ]
  },
  {
   "cell_type": "markdown",
   "metadata": {},
   "source": [
    "Como pode ser observado na matriz acima, ambos os modelos classificam todas as plantas como pertencentes à classe 2 ('Iris-virginica') nos dados de teste. Isso indica que os modelos estão excessivamente enviesados para os padrões da espécie Iris-virginica, comprometendo sua capacidade de generalização.\n",
    "\n",
    "Para realizar mais uma comparação de modelos, propomos abaixo uma rede neural com a mesma estrutura, porém implementada utilizando a biblioteca `keras`."
   ]
  },
  {
   "cell_type": "markdown",
   "metadata": {},
   "source": [
    "### Comparando com o Keras"
   ]
  },
  {
   "cell_type": "code",
   "execution_count": 545,
   "metadata": {},
   "outputs": [],
   "source": [
    "def net_iris_keras():\n",
    "    np.random.seed(42)\n",
    "    modelo = models.Sequential()\n",
    "    modelo.add(Dense(64, activation=\"tanh\", input_shape=(X_train_iris.shape[1],)))\n",
    "    modelo.add(Dense(32, activation=\"tanh\"))\n",
    "    modelo.add(Dense(3, activation=\"softmax\"))\n",
    "    adagrad = Adagrad(learning_rate=0.01)\n",
    "    modelo.compile(optimizer=adagrad, loss=\"categorical_crossentropy\")\n",
    "\n",
    "    return modelo"
   ]
  },
  {
   "cell_type": "code",
   "execution_count": 546,
   "metadata": {},
   "outputs": [],
   "source": [
    "net_iris_keras = net_iris_keras()"
   ]
  },
  {
   "cell_type": "code",
   "execution_count": null,
   "metadata": {},
   "outputs": [],
   "source": [
    "hist_iris = net_iris_keras.fit(\n",
    "    X_train_iris, Y_train_iris_one_hot, epochs=1000, batch_size=32\n",
    ")"
   ]
  },
  {
   "cell_type": "code",
   "execution_count": 548,
   "metadata": {},
   "outputs": [
    {
     "data": {
      "image/png": "[encoded data removed]",
      "text/plain": [
       "<Figure size 640x480 with 1 Axes>"
      ]
     },
     "metadata": {},
     "output_type": "display_data"
    }
   ],
   "source": [
    "plt.plot(\n",
    "    range(1, len(hist_iris.history[\"loss\"]) + 1),\n",
    "    hist_iris.history[\"loss\"],\n",
    "    \"-\",\n",
    "    color=\"blue\",\n",
    "    label=\"Loss de treinamento\",\n",
    ")\n",
    "plt.title(\"Loss no Treinamento e na Validação\", fontsize=16)\n",
    "plt.xlabel(\"epoch\", fontsize=14)\n",
    "plt.ylabel(\"Loss\", fontsize=14)\n",
    "plt.legend()\n",
    "plt.grid(True)\n",
    "\n",
    "plt.tight_layout()\n",
    "plt.show()"
   ]
  },
  {
   "cell_type": "code",
   "execution_count": 549,
   "metadata": {},
   "outputs": [
    {
     "name": "stdout",
     "output_type": "stream",
     "text": [
      "\u001b[1m1/1\u001b[0m \u001b[32m━━━━━━━━━━━━━━━━━━━━\u001b[0m\u001b[37m\u001b[0m \u001b[1m0s\u001b[0m 55ms/step\n"
     ]
    }
   ],
   "source": [
    "out_iris_keras = net_iris_keras.predict(X_test_iris)"
   ]
  },
  {
   "cell_type": "code",
   "execution_count": 550,
   "metadata": {},
   "outputs": [],
   "source": [
    "argmax_iris_keras = []\n",
    "for i in range(X_test_iris.shape[0]):\n",
    "    argmax_iris_keras.append(np.argmax(out_iris_keras[i]))\n",
    "\n",
    "results_df_iris[\"Valor Predito (Keras)\"] = argmax_iris_keras"
   ]
  },
  {
   "cell_type": "code",
   "execution_count": 551,
   "metadata": {},
   "outputs": [
    {
     "data": {
      "image/png": "[encoded data removed]",
      "text/plain": [
       "<Figure size 1500x600 with 4 Axes>"
      ]
     },
     "metadata": {},
     "output_type": "display_data"
    }
   ],
   "source": [
    "y_true = results_df_iris[\"Valor Real\"]\n",
    "y_pred_1 = results_df_iris[\"Valor Predito (Modelo 1)\"]\n",
    "y_pred_2 = results_df_iris[\"Valor Predito (Modelo 2)\"]\n",
    "\n",
    "cm_1 = confusion_matrix(y_true, results_df_iris[\"Valor Predito (Modelo 1)\"])\n",
    "cm_2 = confusion_matrix(y_true, results_df_iris[\"Valor Predito (Modelo 2)\"])\n",
    "cm_keras = confusion_matrix(y_true, results_df_iris[\"Valor Predito (Keras)\"])\n",
    "\n",
    "fig, axes = plt.subplots(1, 3, figsize=(15, 6), gridspec_kw={'width_ratios': [1, 1, 1], 'wspace': 0.4})\n",
    "\n",
    "norm = plt.Normalize(vmin=0, vmax=np.max([cm_1, cm_2, cm_keras]))\n",
    "sm = plt.cm.ScalarMappable(cmap=\"Greens\", norm=norm)\n",
    "sm.set_array([])\n",
    "\n",
    "disp_1 = ConfusionMatrixDisplay(confusion_matrix=cm_1)\n",
    "disp_1.plot(cmap=\"Greens\", ax=axes[0], colorbar=False)\n",
    "axes[0].set_title(\"Matriz de Confusão - Modelo 1 (teste)\")\n",
    "\n",
    "disp_2 = ConfusionMatrixDisplay(confusion_matrix=cm_2)\n",
    "disp_2.plot(cmap=\"Greens\", ax=axes[1], colorbar=False)\n",
    "axes[1].set_title(\"Matriz de Confusão - Modelo 2 (teste)\")\n",
    "\n",
    "disp_keras = ConfusionMatrixDisplay(confusion_matrix=cm_keras)\n",
    "disp_keras.plot(cmap=\"Greens\", ax=axes[2], colorbar=False)\n",
    "axes[2].set_title(\"Matriz de Confusão - keras (teste)\")\n",
    "\n",
    "cbar = fig.colorbar(sm, ax=axes, location=\"right\", fraction=0.02, pad=0.1)\n",
    "cbar.set_label(\"Frequência\")\n",
    "\n",
    "plt.tight_layout()\n",
    "plt.show()"
   ]
  },
  {
   "cell_type": "code",
   "execution_count": 552,
   "metadata": {},
   "outputs": [
    {
     "name": "stdout",
     "output_type": "stream",
     "text": [
      "{'species': {'Iris-setosa': 0, 'Iris-versicolor': 1, 'Iris-virginica': 2}}\n"
     ]
    }
   ],
   "source": [
    "print(categ_iris)"
   ]
  },
  {
   "cell_type": "markdown",
   "metadata": {},
   "source": [
    "Ao analisarmos todos os modelos, podemos observar que o modelo implementado em `keras` classifica todas as Iris-setosa (classe 0) como Iris-versicolor (classe 1) e, para as classes 1 e 2, afirma que todas pertencem à classe 2 (Iris-virginica). Isso sugere que a estrutura da rede torna o modelo incapaz de classificar corretamente a classe 0 em novas observações. Para verificar se ele é capaz de identificar a classe 0, analisamos abaixo a matriz de confusão para os dados de treinamento."
   ]
  },
  {
   "cell_type": "code",
   "execution_count": 553,
   "metadata": {},
   "outputs": [
    {
     "name": "stdout",
     "output_type": "stream",
     "text": [
      "\u001b[1m4/4\u001b[0m \u001b[32m━━━━━━━━━━━━━━━━━━━━\u001b[0m\u001b[37m\u001b[0m \u001b[1m0s\u001b[0m 5ms/step \n"
     ]
    }
   ],
   "source": [
    "out_iris_keras = net_iris_keras.predict(X_train_iris)\n",
    "out_iris_1 = net_iris_1.predict(X_train_iris)\n",
    "out_iris_2 = net_iris_2.predict(X_train_iris)"
   ]
  },
  {
   "cell_type": "code",
   "execution_count": 554,
   "metadata": {},
   "outputs": [],
   "source": [
    "argmax_iris_1 = []\n",
    "argmax_iris_2 = []\n",
    "for i in range(X_train_iris.shape[0]):\n",
    "    argmax_iris_1.append(np.argmax(out_iris_1[i]))\n",
    "    argmax_iris_2.append(np.argmax(out_iris_2[i]))\n"
   ]
  },
  {
   "cell_type": "code",
   "execution_count": 555,
   "metadata": {},
   "outputs": [],
   "source": [
    "results_df_iris = {\n",
    "    \"Valor Real\": Y_train_iris,\n",
    "    \"Valor Predito (Modelo 1)\": argmax_iris_1,\n",
    "    \"Valor Predito (Modelo 2)\": argmax_iris_2,\n",
    "}"
   ]
  },
  {
   "cell_type": "code",
   "execution_count": 556,
   "metadata": {},
   "outputs": [],
   "source": [
    "argmax_iris_keras = []\n",
    "for i in range(X_train_iris.shape[0]):\n",
    "    argmax_iris_keras.append(np.argmax(out_iris_keras[i]))\n",
    "\n",
    "results_df_iris[\"Valor Predito (Keras)\"] = argmax_iris_keras"
   ]
  },
  {
   "cell_type": "code",
   "execution_count": 557,
   "metadata": {},
   "outputs": [
    {
     "data": {
      "image/png": "[encoded data removed]",
      "text/plain": [
       "<Figure size 1500x600 with 4 Axes>"
      ]
     },
     "metadata": {},
     "output_type": "display_data"
    }
   ],
   "source": [
    "y_true = results_df_iris[\"Valor Real\"]\n",
    "y_pred_1 = results_df_iris[\"Valor Predito (Modelo 1)\"]\n",
    "y_pred_2 = results_df_iris[\"Valor Predito (Modelo 2)\"]\n",
    "\n",
    "cm_1 = confusion_matrix(y_true, results_df_iris[\"Valor Predito (Modelo 1)\"])\n",
    "cm_2 = confusion_matrix(y_true, results_df_iris[\"Valor Predito (Modelo 2)\"])\n",
    "cm_keras = confusion_matrix(y_true, results_df_iris[\"Valor Predito (Keras)\"])\n",
    "\n",
    "fig, axes = plt.subplots(\n",
    "    1, 3, figsize=(15, 6), gridspec_kw={\"width_ratios\": [1, 1, 1], \"wspace\": 0.4}\n",
    ")\n",
    "\n",
    "norm = plt.Normalize(vmin=0, vmax=np.max([cm_1, cm_2, cm_keras]))\n",
    "sm = plt.cm.ScalarMappable(cmap=\"Greens\", norm=norm)\n",
    "sm.set_array([])\n",
    "\n",
    "disp_1 = ConfusionMatrixDisplay(confusion_matrix=cm_1)\n",
    "disp_1.plot(cmap=\"Greens\", ax=axes[0], colorbar=False)\n",
    "axes[0].set_title(\"Matriz de Confusão - Modelo 1 (train)\")\n",
    "\n",
    "disp_2 = ConfusionMatrixDisplay(confusion_matrix=cm_2)\n",
    "disp_2.plot(cmap=\"Greens\", ax=axes[1], colorbar=False)\n",
    "axes[1].set_title(\"Matriz de Confusão - Modelo 2 (train)\")\n",
    "\n",
    "disp_keras = ConfusionMatrixDisplay(confusion_matrix=cm_keras)\n",
    "disp_keras.plot(cmap=\"Greens\", ax=axes[2], colorbar=False)\n",
    "axes[2].set_title(\"Matriz de Confusão - keras (train)\")\n",
    "\n",
    "cbar = fig.colorbar(sm, ax=axes, location=\"right\", fraction=0.02, pad=0.1)\n",
    "cbar.set_label(\"Frequência\")\n",
    "\n",
    "plt.tight_layout()\n",
    "plt.show()"
   ]
  },
  {
   "cell_type": "markdown",
   "metadata": {},
   "source": [
    "Ao analisar os dados de treinamento, observamos que os modelos acertam todas as 41 observações da classe 0. No entanto, tanto o modelo 1 quanto o modelo 2 apresentam dificuldades em classificar corretamente a classe 1, frequentemente atribuindo essas observações à classe 2. Esse comportamento pode estar associado ao fato de a base de dados conter apenas 150 observações, sendo apenas 30 destinadas para teste, o que limita a capacidade dos modelos de generalizar e classificar adequadamente as classes.\n",
    "\n",
    "Portanto, a estrutura de rede proposta demonstrou-se ineficaz para realizar previsões confiáveis em novas observações.\n",
    "\n",
    "| Camada            | Tipo           | Neurônios | Função de Ativação | Observações                      |\n",
    "|--------------------|----------------|-----------|--------------------|----------------------------------|\n",
    "| Entrada           | -              | 4 (input) | -                  | Baseada no número de features do conjunto de dados `X_train_iris` |\n",
    "| Camada Oculta 1   | Dense          | 64        | Tanh               | Primeira camada totalmente conectada |\n",
    "| Camada Oculta 2   | Dense          | 32        | Tanh               | Segunda camada totalmente conectada |\n",
    "| Saída             | Dense          | 3         | Softmax            | Saída com 3 neurônios, representando as 3 classes do problema |\n",
    "| **Otimizador**     | **Adagrad**    | -         | -                  | Taxa de aprendizado: 0.01       |\n",
    "| **Função de Perda**| **Categorical Crossentropy** | - | -              | Usada para problemas de classificação multiclasse |"
   ]
  }
 ],
 "metadata": {
  "colab": {
   "collapsed_sections": [
    "WECeh57QhL9O"
   ],
   "provenance": []
  },
  "kernelspec": {
   "display_name": "tf-env",
   "language": "python",
   "name": "python3"
  },
  "language_info": {
   "codemirror_mode": {
    "name": "ipython",
    "version": 3
   },
   "file_extension": ".py",
   "mimetype": "text/x-python",
   "name": "python",
   "nbconvert_exporter": "python",
   "pygments_lexer": "ipython3",
   "version": "3.11.11"
  }
 },
 "nbformat": 4,
 "nbformat_minor": 0
}

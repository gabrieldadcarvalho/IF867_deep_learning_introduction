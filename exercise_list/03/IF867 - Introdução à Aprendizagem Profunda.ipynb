{
 "cells": [
  {
   "cell_type": "markdown",
   "metadata": {},
   "source": [
    "<center>\n",
    "    <h1>2º Lista Teórica</h1>\n",
    "</center>\n",
    "**Discente:**\n",
    "- Gabriel D'assumpção de Carvalho - gdc2@cin.ufpe.br\n",
    "\n",
    "**Curso:**\n",
    "- Ciências Atuariais - 7º Período"
   ]
  },
  {
   "cell_type": "markdown",
   "metadata": {},
   "source": [
    "![1](/home/gabrieldadcarvalho/github/deep_learning/exercise_list/03/image/1.jpeg)"
   ]
  },
  {
   "cell_type": "markdown",
   "metadata": {},
   "source": [
    "![2.png](/home/gabrieldadcarvalho/github/deep_learning/exercise_list/03/image/2.jpeg)"
   ]
  },
  {
   "cell_type": "markdown",
   "metadata": {},
   "source": [
    "![3.png](/home/gabrieldadcarvalho/github/deep_learning/exercise_list/03/image/3.jpeg)"
   ]
  },
  {
   "cell_type": "markdown",
   "metadata": {},
   "source": [
    "![4.png](/home/gabrieldadcarvalho/github/deep_learning/exercise_list/03/image/4.jpeg))"
   ]
  },
  {
   "cell_type": "markdown",
   "metadata": {},
   "source": [
    "![5.png](/home/gabrieldadcarvalho/github/deep_learning/exercise_list/03/image/5.jpeg)"
   ]
  },
  {
   "cell_type": "markdown",
   "metadata": {},
   "source": [
    "![6.png](/home/gabrieldadcarvalho/github/deep_learning/exercise_list/03/image/6.jpeg)"
   ]
  },
  {
   "cell_type": "markdown",
   "metadata": {},
   "source": [
    "![7.png](/home/gabrieldadcarvalho/github/deep_learning/exercise_list/03/image/7.jpeg)"
   ]
  },
  {
   "cell_type": "markdown",
   "metadata": {},
   "source": [
    "![8.png](/home/gabrieldadcarvalho/github/deep_learning/exercise_list/03/image/8.jpeg)"
   ]
  }
 ],
 "metadata": {
  "language_info": {
   "name": "python"
  }
 },
 "nbformat": 4,
 "nbformat_minor": 2
}

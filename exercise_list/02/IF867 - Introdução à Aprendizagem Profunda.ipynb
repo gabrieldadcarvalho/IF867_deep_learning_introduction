{
 "cells": [
  {
   "cell_type": "markdown",
   "metadata": {},
   "source": [
    "**Discente:**\n",
    "- Gabriel D'assumpção de Carvalho - gdc2@cin.ufpe.br\n",
    "\n",
    "**Curso:**\n",
    "- Ciências Atuariais - 7º Período"
   ]
  },
  {
   "cell_type": "markdown",
   "metadata": {},
   "source": [
    "![1](/home/gabrieldadcarvalho/github/deep_learning/exercise_list/02/image/1.jpeg)"
   ]
  },
  {
   "cell_type": "markdown",
   "metadata": {},
   "source": [
    "![image.png](/home/gabrieldadcarvalho/github/deep_learning/exercise_list/02/image/2.jpeg)"
   ]
  },
  {
   "cell_type": "markdown",
   "metadata": {},
   "source": [
    "![image.png](/home/gabrieldadcarvalho/github/deep_learning/exercise_list/02/image/3.jpeg)"
   ]
  },
  {
   "cell_type": "markdown",
   "metadata": {},
   "source": [
    "![image.png](/home/gabrieldadcarvalho/github/deep_learning/exercise_list/02/image/4.jpeg))"
   ]
  },
  {
   "cell_type": "markdown",
   "metadata": {},
   "source": [
    "![image.png](/home/gabrieldadcarvalho/github/deep_learning/exercise_list/02/image/5.jpeg)"
   ]
  },
  {
   "cell_type": "markdown",
   "metadata": {},
   "source": [
    "![image.png](/home/gabrieldadcarvalho/github/deep_learning/exercise_list/02/image/6.jpeg)"
   ]
  },
  {
   "cell_type": "markdown",
   "metadata": {},
   "source": [
    "![image.png](/home/gabrieldadcarvalho/github/deep_learning/exercise_list/02/image/7.jpeg)"
   ]
  },
  {
   "cell_type": "markdown",
   "metadata": {},
   "source": [
    "![image.png](/home/gabrieldadcarvalho/github/deep_learning/exercise_list/02/image/8.jpeg)"
   ]
  },
  {
   "cell_type": "markdown",
   "metadata": {},
   "source": [
    "![image.png](/home/gabrieldadcarvalho/github/deep_learning/exercise_list/02/image/9.jpeg)"
   ]
  },
  {
   "cell_type": "markdown",
   "metadata": {},
   "source": [
    "![image.png](/home/gabrieldadcarvalho/github/deep_learning/exercise_list/02/image/10.jpeg)"
   ]
  },
  {
   "cell_type": "markdown",
   "metadata": {},
   "source": [
    "![image.png](/home/gabrieldadcarvalho/github/deep_learning/exercise_list/02/image/11.jpeg)"
   ]
  },
  {
   "cell_type": "markdown",
   "metadata": {},
   "source": [
    "![image.png](/home/gabrieldadcarvalho/github/deep_learning/exercise_list/02/image/12.jpeg)"
   ]
  },
  {
   "cell_type": "markdown",
   "metadata": {},
   "source": [
    "![image.png](/home/gabrieldadcarvalho/github/deep_learning/exercise_list/02/image/13.jpeg)"
   ]
  }
 ],
 "metadata": {
  "language_info": {
   "name": "python"
  }
 },
 "nbformat": 4,
 "nbformat_minor": 2
}
